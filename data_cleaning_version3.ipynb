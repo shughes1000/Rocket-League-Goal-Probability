{
 "cells": [
  {
   "cell_type": "markdown",
   "id": "a883cbe4",
   "metadata": {},
   "source": [
    "# Cleaning the Training Data"
   ]
  },
  {
   "cell_type": "markdown",
   "id": "02c8cda5",
   "metadata": {},
   "source": [
    "In this file, I take the data and clean it so it will be ready for model building"
   ]
  },
  {
   "cell_type": "code",
   "execution_count": 1,
   "id": "1b095de4",
   "metadata": {},
   "outputs": [],
   "source": [
    "import pandas as pd"
   ]
  },
  {
   "cell_type": "markdown",
   "id": "16e0fcd7",
   "metadata": {},
   "source": [
    "A lot of the columns were not the correct type. The following code fixes all of this. "
   ]
  },
  {
   "cell_type": "code",
   "execution_count": 2,
   "id": "bf36ce5d",
   "metadata": {},
   "outputs": [],
   "source": [
    "def fix_types(df):\n",
    "    df[\"blue_handbrake\"] = df[\"blue_handbrake\"].astype(\"bool\")\n",
    "    df[\"orange_handbrake\"] = df[\"orange_handbrake\"].astype(\"bool\")\n",
    "\n",
    "    df[\"blue_ball_cam\"] = df[\"blue_ball_cam\"].astype(\"bool\")\n",
    "    df[\"orange_ball_cam\"] = df[\"orange_ball_cam\"].astype(\"bool\")\n",
    "\n",
    "    df[\"blue_boost_active\"] = df[\"blue_boost_active\"].astype(\"bool\")\n",
    "    df[\"orange_boost_active\"] = df[\"orange_boost_active\"].astype(\"bool\")\n",
    "\n",
    "    df.loc[df[\"game_is_overtime\"].isnull(), \"game_is_overtime\"] = False\n",
    "    df.loc[df[\"game_is_overtime\"] == \"no_OT\", \"game_is_overtime\"] = False\n",
    "    df[\"game_is_overtime\"] = df[\"game_is_overtime\"].astype(\"bool\")\n",
    "\n",
    "    df[\"game_ball_has_been_hit\"] = df[\"game_ball_has_been_hit\"].astype(\"bool\")\n",
    "\n",
    "    df[\"blue_dodge_active\"] = df[\"blue_dodge_active\"].astype(\"bool\")\n",
    "    df[\"orange_dodge_active\"] = df[\"orange_dodge_active\"].astype(\"bool\")\n",
    "\n",
    "    df[\"blue_jump_active\"] = df[\"blue_jump_active\"].astype(\"bool\")\n",
    "    df[\"orange_jump_active\"] = df[\"orange_jump_active\"].astype(\"bool\")\n",
    "\n",
    "    df[\"blue_double_jump_active\"] = df[\"blue_double_jump_active\"].astype(\"bool\")\n",
    "    df[\"orange_double_jump_active\"] = df[\"orange_double_jump_active\"].astype(\"bool\")\n",
    "    \n",
    "    return df"
   ]
  },
  {
   "cell_type": "markdown",
   "id": "c86e7e31",
   "metadata": {},
   "source": [
    "Using the existing columns, we can transform our data to create new columns that may be good predictors"
   ]
  },
  {
   "cell_type": "code",
   "execution_count": 3,
   "id": "d4fcd5ec",
   "metadata": {},
   "outputs": [],
   "source": [
    "def create_new_columns(df):\n",
    "    df[\"blue_possesion\"] = False\n",
    "    df[\"orange_possesion\"] = False\n",
    "\n",
    "    df.loc[df[\"ball_hit_team_no\"] == 0, \"blue_possesion\"] = True\n",
    "    df.loc[df[\"ball_hit_team_no\"] == 1, \"orange_possesion\"] = True\n",
    "\n",
    "    df.drop(\"ball_hit_team_no\", axis = 1, inplace = True)\n",
    "\n",
    "    # 320 z is roughly the center of the goal in terms of height\n",
    "    df[\"ball_dist_to_orange_goal\"] = ((0 - df[\"ball_pos_x\"])**2 + \n",
    "                                            (5120 - df[\"ball_pos_y\"])**2 +\n",
    "                                            (320 - df[\"ball_pos_z\"])**2\n",
    "                                           )**(1/2)\n",
    "\n",
    "    df[\"ball_dist_to_blue_goal\"] = ((0 - df[\"ball_pos_x\"])**2 + \n",
    "                                          (-5120 - df[\"ball_pos_y\"])**2 +\n",
    "                                          (320 - df[\"ball_pos_z\"])**2\n",
    "                                         )**(1/2)\n",
    "\n",
    "    # if a player's coordinates are null, they are demolished (dead for three seconds)\n",
    "    df[\"blue_dead\"] = False\n",
    "    df.loc[df[\"blue_pos_x\"].isnull(), \"blue_dead\"] = True\n",
    "\n",
    "    df[\"orange_dead\"] = False\n",
    "    df.loc[df[\"orange_pos_x\"].isnull(), \"orange_dead\"] = True\n",
    "\n",
    "    return df"
   ]
  },
  {
   "cell_type": "markdown",
   "id": "e6c2e90c",
   "metadata": {},
   "source": [
    "There are some missing values that we can fix. Specifically, velocities are missing when they should be 0. Also, when a player is demolished, they will respawn in one of four locations. Therefore, we can replace these cases of missing values by randomly selecting the potential respawn location. "
   ]
  },
  {
   "cell_type": "code",
   "execution_count": 4,
   "id": "318d689f",
   "metadata": {},
   "outputs": [],
   "source": [
    "def fix_nas(df):\n",
    "    # value fixes\n",
    "    df.loc[df[\"ball_vel_x\"].isnull(), \"ball_vel_x\"] = 0\n",
    "    df.loc[df[\"ball_vel_y\"].isnull(), \"ball_vel_y\"] = 0\n",
    "    df.loc[df[\"ball_vel_z\"].isnull(), \"ball_vel_z\"] = 0\n",
    "    df.loc[df[\"ball_ang_vel_x\"].isnull(), \"ball_ang_vel_x\"] = 0\n",
    "    df.loc[df[\"ball_ang_vel_y\"].isnull(), \"ball_ang_vel_y\"] = 0\n",
    "    df.loc[df[\"ball_ang_vel_z\"].isnull(), \"ball_ang_vel_z\"] = 0\n",
    "    \n",
    "    df.loc[df[\"blue_steer\"].isnull(), \"blue_steer\"] = 127.5\n",
    "    df.loc[df[\"orange_steer\"].isnull(), \"orange_steer\"] = 127.5\n",
    "    \n",
    "    df.loc[df[\"blue_throttle\"].isnull(), \"blue_throttle\"] = 0\n",
    "    df.loc[df[\"orange_throttle\"].isnull(), \"orange_throttle\"] = 0\n",
    "    \n",
    "    df.loc[df[\"blue_boost\"].isnull(), \"blue_boost\"] = 0\n",
    "    df.loc[df[\"orange_boost\"].isnull(), \"orange_boost\"] = 0\n",
    "    \n",
    "    df.loc[df[\"blue_boost_collect\"].isnull(), \"blue_boost_collect\"] = 0\n",
    "    df.loc[df[\"orange_boost_collect\"].isnull(), \"orange_boost_collect\"] = 0\n",
    "    \n",
    "    # demolition fixes\n",
    "    respawn_x = [-2688.0, 2688.0, -2304.0, 2304.0]\n",
    "    \n",
    "    rep = df[\"blue_dead\"].eq(True)\n",
    "    df.loc[rep, \"blue_pos_x\"] = np.random.choice(respawn_x, size = rep.sum())\n",
    "    df.loc[rep, \"blue_pos_y\"] = -4608.0\n",
    "    df.loc[rep, \"blue_pos_z\"] = 33.51\n",
    "    \n",
    "    df.loc[rep, \"blue_vel_x\"] = 0.0\n",
    "    df.loc[rep, \"blue_vel_y\"] = 0.0\n",
    "    df.loc[rep, \"blue_vel_z\"] = -541.0\n",
    "    \n",
    "    df.loc[rep, \"blue_ang_vel_x\"] = 0.0\n",
    "    df.loc[rep, \"blue_ang_vel_y\"] = 0.0\n",
    "    df.loc[rep, \"blue_ang_vel_z\"] = 0.0\n",
    "    \n",
    "    df.loc[rep, \"blue_rot_x\"] = 0.0\n",
    "    df.loc[rep, \"blue_rot_y\"] = 1.5708\n",
    "    df.loc[rep, \"blue_rot_z\"] = 0.0\n",
    "    \n",
    "    df.loc[rep, \"blue_boost\"] = 85.0\n",
    "    \n",
    "    \n",
    "    rep = df[\"orange_dead\"].eq(True)\n",
    "    df.loc[rep, \"orange_pos_x\"] = np.random.choice(respawn_x, size = rep.sum())\n",
    "    df.loc[rep, \"orange_pos_y\"] = 4608.0\n",
    "    df.loc[rep, \"orange_pos_z\"] = 33.51\n",
    "    \n",
    "    df.loc[rep, \"orange_vel_x\"] = 0.0\n",
    "    df.loc[rep, \"orange_vel_y\"] = 0.0\n",
    "    df.loc[rep, \"orange_vel_z\"] = -541.0\n",
    "    \n",
    "    df.loc[rep, \"orange_ang_vel_x\"] = 0.0\n",
    "    df.loc[rep, \"orange_ang_vel_y\"] = 0.0\n",
    "    df.loc[rep, \"orange_ang_vel_z\"] = 0.0\n",
    "    \n",
    "    df.loc[rep, \"orange_rot_x\"] = 0.0\n",
    "    df.loc[rep, \"orange_rot_y\"] = -1.5708\n",
    "    df.loc[rep, \"orange_rot_z\"] = 0.0\n",
    "    \n",
    "    df.loc[rep, \"orange_boost\"] = 85.0\n",
    "    \n",
    "    \n",
    "    # now that the distances are all there, we can calculate each player's distance to the ball\n",
    "    df[\"blue_dist_to_ball\"] = ((df[\"blue_pos_x\"] - df[\"ball_pos_x\"])**2 + \n",
    "                                        (df[\"blue_pos_y\"] - df[\"ball_pos_y\"])**2 +\n",
    "                                        (df[\"blue_pos_z\"] - df[\"ball_pos_z\"])**2\n",
    "                                       )**(1/2)\n",
    "\n",
    "    # if the ball is behind of player in terms of y location and shooting net, make distance negative\n",
    "    df.loc[df[\"blue_pos_y\"] > df[\"ball_pos_y\"], \n",
    "                    \"blue_dist_to_ball\"] = df.loc[df[\"blue_pos_y\"] > df[\"ball_pos_y\"], \n",
    "                                                           \"blue_dist_to_ball\"] * (-1)\n",
    "    \n",
    "    # create boolean of whether the player is between the ball and their own goal\n",
    "    df[\"blue_behind_ball\"] = None\n",
    "    df.loc[df[\"blue_dist_to_ball\"] <= 0, \"blue_behind_ball\"] = False\n",
    "    df.loc[df[\"blue_dist_to_ball\"] > 0, \"blue_behind_ball\"] = True\n",
    "    df[\"blue_behind_ball\"] = df[\"blue_behind_ball\"].astype(\"bool\")\n",
    "\n",
    "    df[\"orange_dist_to_ball\"] = ((df[\"orange_pos_x\"] - df[\"ball_pos_x\"])**2 + \n",
    "                                          (df[\"orange_pos_y\"] - df[\"ball_pos_y\"])**2 +\n",
    "                                          (df[\"orange_pos_z\"] - df[\"ball_pos_z\"])**2\n",
    "                                         )**(1/2)\n",
    "\n",
    "    # if the ball is behind of player in terms of y location and shooting net, make distance negative\n",
    "    df.loc[df[\"orange_pos_y\"] < df[\"ball_pos_y\"], \n",
    "                    \"orange_dist_to_ball\"] = df.loc[df[\"orange_pos_y\"] < df[\"ball_pos_y\"], \n",
    "                                                             \"orange_dist_to_ball\"] * (-1)\n",
    "    \n",
    "    # create boolean of whether the player is between the ball and their own goal\n",
    "    df[\"orange_behind_ball\"] = None\n",
    "    df.loc[df[\"orange_dist_to_ball\"] <= 0, \"orange_behind_ball\"] = False\n",
    "    df.loc[df[\"orange_dist_to_ball\"] > 0, \"orange_behind_ball\"] = True\n",
    "    df[\"orange_behind_ball\"] = df[\"orange_behind_ball\"].astype(\"bool\")\n",
    "    \n",
    "    return df"
   ]
  },
  {
   "cell_type": "code",
   "execution_count": 5,
   "id": "69df6652",
   "metadata": {},
   "outputs": [],
   "source": [
    "def data_cleaning(df):\n",
    "    df.reset_index(drop = True, inplace = True)\n",
    "    df = df.loc[df[\"game_next_goal\"].isnull() == False, ]\n",
    "    df = df.loc[df[\"ball_pos_x\"].isnull() == False, ]\n",
    "    \n",
    "    df = fix_types(df)\n",
    "    \n",
    "    df = create_new_columns(df)\n",
    "    \n",
    "    df = fix_nas(df)\n",
    "    \n",
    "    df.insert(77, \"game_next_goal\", df.pop(\"game_next_goal\"))\n",
    "    \n",
    "    return df"
   ]
  },
  {
   "cell_type": "markdown",
   "id": "b454ab8d",
   "metadata": {},
   "source": [
    "Now the data is ready for model building, so we can store it as a pickle file"
   ]
  },
  {
   "cell_type": "code",
   "execution_count": 6,
   "id": "3deecc1d",
   "metadata": {},
   "outputs": [
    {
     "data": {
      "text/plain": [
       "(168558, 69)"
      ]
     },
     "execution_count": 6,
     "metadata": {},
     "output_type": "execute_result"
    }
   ],
   "source": [
    "df_train = pd.read_pickle(\"training_data1_v3.pkl\")\n",
    "df_train.shape"
   ]
  },
  {
   "cell_type": "code",
   "execution_count": 7,
   "id": "22560cfa",
   "metadata": {},
   "outputs": [
    {
     "data": {
      "text/plain": [
       "(336895, 69)"
      ]
     },
     "execution_count": 7,
     "metadata": {},
     "output_type": "execute_result"
    }
   ],
   "source": [
    "df_train = df_train.append(pd.read_pickle(\"training_data2_v3.pkl\"))\n",
    "df_train.shape"
   ]
  },
  {
   "cell_type": "code",
   "execution_count": 8,
   "id": "cadee536",
   "metadata": {},
   "outputs": [
    {
     "data": {
      "text/plain": [
       "(510558, 69)"
      ]
     },
     "execution_count": 8,
     "metadata": {},
     "output_type": "execute_result"
    }
   ],
   "source": [
    "df_train = df_train.append(pd.read_pickle(\"training_data3_v3.pkl\"))\n",
    "df_train.shape"
   ]
  },
  {
   "cell_type": "code",
   "execution_count": 9,
   "id": "00f09ec8",
   "metadata": {},
   "outputs": [
    {
     "data": {
      "text/plain": [
       "(467879, 78)"
      ]
     },
     "execution_count": 9,
     "metadata": {},
     "output_type": "execute_result"
    }
   ],
   "source": [
    "df_train = data_cleaning(df_train)\n",
    "df_train.shape"
   ]
  },
  {
   "cell_type": "code",
   "execution_count": 10,
   "id": "9558f8a6",
   "metadata": {},
   "outputs": [],
   "source": [
    "df_train.to_pickle(\"training_data_final_v3.pkl\")"
   ]
  },
  {
   "cell_type": "code",
   "execution_count": 11,
   "id": "4ba660ce",
   "metadata": {},
   "outputs": [],
   "source": [
    "df_test = pd.read_pickle(\"testing_data_v3.pkl\")"
   ]
  },
  {
   "cell_type": "code",
   "execution_count": 12,
   "id": "a5ce91aa",
   "metadata": {},
   "outputs": [
    {
     "data": {
      "text/plain": [
       "(165136, 78)"
      ]
     },
     "execution_count": 12,
     "metadata": {},
     "output_type": "execute_result"
    }
   ],
   "source": [
    "df_test = data_cleaning(df_test)\n",
    "df_test.shape"
   ]
  },
  {
   "cell_type": "code",
   "execution_count": 13,
   "id": "8ed7e6ff",
   "metadata": {},
   "outputs": [],
   "source": [
    "df_test.to_pickle(\"testing_data_final_v3.pkl\")"
   ]
  },
  {
   "cell_type": "code",
   "execution_count": 14,
   "id": "8e9a66de",
   "metadata": {},
   "outputs": [],
   "source": [
    "df_accuracy = pd.read_pickle(\"accuracy_data_v3.pkl\")"
   ]
  },
  {
   "cell_type": "code",
   "execution_count": 15,
   "id": "50c8b828",
   "metadata": {},
   "outputs": [
    {
     "data": {
      "text/plain": [
       "(164639, 78)"
      ]
     },
     "execution_count": 15,
     "metadata": {},
     "output_type": "execute_result"
    }
   ],
   "source": [
    "df_accuracy = data_cleaning(df_accuracy)\n",
    "df_accuracy.shape"
   ]
  },
  {
   "cell_type": "code",
   "execution_count": 16,
   "id": "b3b72c80",
   "metadata": {},
   "outputs": [],
   "source": [
    "df_accuracy.to_pickle(\"accuracy_data_final_v3.pkl\")"
   ]
  },
  {
   "cell_type": "code",
   "execution_count": 6,
   "id": "dbc8beff",
   "metadata": {},
   "outputs": [],
   "source": [
    "df_analysis = pd.read_pickle(\"analysis_data_v3.pkl\")"
   ]
  },
  {
   "cell_type": "code",
   "execution_count": 7,
   "id": "4ab65412",
   "metadata": {},
   "outputs": [
    {
     "data": {
      "text/plain": [
       "(10116, 78)"
      ]
     },
     "execution_count": 7,
     "metadata": {},
     "output_type": "execute_result"
    }
   ],
   "source": [
    "df_analysis = data_cleaning(df_analysis)\n",
    "df_analysis.shape"
   ]
  },
  {
   "cell_type": "code",
   "execution_count": 9,
   "id": "8a2c8088",
   "metadata": {},
   "outputs": [],
   "source": [
    "df_analysis.to_pickle(\"analysis_data_final_v3.pkl\")"
   ]
  },
  {
   "cell_type": "code",
   "execution_count": null,
   "id": "1b3905c0",
   "metadata": {},
   "outputs": [],
   "source": []
  }
 ],
 "metadata": {
  "kernelspec": {
   "display_name": "Python 3 (ipykernel)",
   "language": "python",
   "name": "python3"
  },
  "language_info": {
   "codemirror_mode": {
    "name": "ipython",
    "version": 3
   },
   "file_extension": ".py",
   "mimetype": "text/x-python",
   "name": "python",
   "nbconvert_exporter": "python",
   "pygments_lexer": "ipython3",
   "version": "3.8.12"
  },
  "varInspector": {
   "cols": {
    "lenName": 16,
    "lenType": 16,
    "lenVar": 40
   },
   "kernels_config": {
    "python": {
     "delete_cmd_postfix": "",
     "delete_cmd_prefix": "del ",
     "library": "var_list.py",
     "varRefreshCmd": "print(var_dic_list())"
    },
    "r": {
     "delete_cmd_postfix": ") ",
     "delete_cmd_prefix": "rm(",
     "library": "var_list.r",
     "varRefreshCmd": "cat(var_dic_list()) "
    }
   },
   "types_to_exclude": [
    "module",
    "function",
    "builtin_function_or_method",
    "instance",
    "_Feature"
   ],
   "window_display": false
  }
 },
 "nbformat": 4,
 "nbformat_minor": 5
}
