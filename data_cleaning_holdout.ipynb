{
 "cells": [
  {
   "cell_type": "markdown",
   "id": "60a9bbae",
   "metadata": {},
   "source": [
    "This file is basically the exact same as data_cleaning_train except with different replays so I am not going to annotate it"
   ]
  },
  {
   "cell_type": "code",
   "execution_count": 1,
   "id": "ab8d978e",
   "metadata": {},
   "outputs": [],
   "source": [
    "import pandas as pd"
   ]
  },
  {
   "cell_type": "code",
   "execution_count": 2,
   "id": "4c79e3a0",
   "metadata": {},
   "outputs": [
    {
     "name": "stderr",
     "output_type": "stream",
     "text": [
      "C:\\Users\\mhugh\\anaconda3\\lib\\site-packages\\IPython\\core\\interactiveshell.py:3457: DtypeWarning: Columns (18,23,40,44,63,64) have mixed types.Specify dtype option on import or set low_memory=False.\n",
      "  exec(code_obj, self.user_global_ns, self.user_ns)\n"
     ]
    }
   ],
   "source": [
    "df_holdout = pd.read_csv(\"training_data4.csv\", index_col = 0)"
   ]
  },
  {
   "cell_type": "code",
   "execution_count": 3,
   "id": "fa0c09d5",
   "metadata": {},
   "outputs": [
    {
     "data": {
      "text/plain": [
       "(342097, 68)"
      ]
     },
     "execution_count": 3,
     "metadata": {},
     "output_type": "execute_result"
    }
   ],
   "source": [
    "df_holdout.shape"
   ]
  },
  {
   "cell_type": "code",
   "execution_count": 4,
   "id": "8d1a4a97",
   "metadata": {},
   "outputs": [],
   "source": [
    "df_holdout.reset_index(drop = True, inplace = True)"
   ]
  },
  {
   "cell_type": "code",
   "execution_count": 5,
   "id": "77cd5d0f",
   "metadata": {},
   "outputs": [],
   "source": [
    "df_holdout = df_holdout.loc[df_holdout[\"game_next_goal\"].isnull() == False, ]"
   ]
  },
  {
   "cell_type": "code",
   "execution_count": 6,
   "id": "63bd6f5e",
   "metadata": {},
   "outputs": [
    {
     "name": "stdout",
     "output_type": "stream",
     "text": [
      "<class 'pandas.core.frame.DataFrame'>\n",
      "Int64Index: 316363 entries, 0 to 336876\n",
      "Data columns (total 68 columns):\n",
      " #   Column                             Non-Null Count   Dtype  \n",
      "---  ------                             --------------   -----  \n",
      " 0   ID                                 316363 non-null  int64  \n",
      " 1   blue_ping                          316363 non-null  int64  \n",
      " 2   blue_pos_x                         314049 non-null  float64\n",
      " 3   blue_pos_y                         314049 non-null  float64\n",
      " 4   blue_pos_z                         314049 non-null  float64\n",
      " 5   blue_vel_x                         314049 non-null  float64\n",
      " 6   blue_vel_y                         314049 non-null  float64\n",
      " 7   blue_vel_z                         314049 non-null  float64\n",
      " 8   blue_ang_vel_x                     314049 non-null  float64\n",
      " 9   blue_ang_vel_y                     314049 non-null  float64\n",
      " 10  blue_ang_vel_z                     314049 non-null  float64\n",
      " 11  blue_throttle                      302826 non-null  float64\n",
      " 12  blue_steer                         287858 non-null  float64\n",
      " 13  blue_handbrake                     214104 non-null  object \n",
      " 14  blue_rot_x                         314049 non-null  float64\n",
      " 15  blue_rot_y                         314049 non-null  float64\n",
      " 16  blue_rot_z                         314049 non-null  float64\n",
      " 17  blue_ball_cam                      304331 non-null  object \n",
      " 18  blue_dodge_active                  314048 non-null  object \n",
      " 19  blue_double_jump_active            314048 non-null  object \n",
      " 20  blue_jump_active                   314048 non-null  object \n",
      " 21  blue_boost                         306695 non-null  float64\n",
      " 22  blue_boost_active                  314048 non-null  object \n",
      " 23  orange_ping                        315971 non-null  float64\n",
      " 24  orange_pos_x                       314107 non-null  float64\n",
      " 25  orange_pos_y                       314107 non-null  float64\n",
      " 26  orange_pos_z                       314107 non-null  float64\n",
      " 27  orange_vel_x                       314107 non-null  float64\n",
      " 28  orange_vel_y                       314107 non-null  float64\n",
      " 29  orange_vel_z                       314107 non-null  float64\n",
      " 30  orange_ang_vel_x                   314107 non-null  float64\n",
      " 31  orange_ang_vel_y                   314107 non-null  float64\n",
      " 32  orange_ang_vel_z                   314107 non-null  float64\n",
      " 33  orange_throttle                    296855 non-null  float64\n",
      " 34  orange_steer                       281715 non-null  float64\n",
      " 35  orange_handbrake                   206081 non-null  object \n",
      " 36  orange_rot_x                       314107 non-null  float64\n",
      " 37  orange_rot_y                       314107 non-null  float64\n",
      " 38  orange_rot_z                       314107 non-null  float64\n",
      " 39  orange_ball_cam                    299642 non-null  object \n",
      " 40  orange_jump_active                 314096 non-null  object \n",
      " 41  orange_dodge_active                314097 non-null  object \n",
      " 42  orange_boost                       305933 non-null  float64\n",
      " 43  orange_boost_active                314097 non-null  object \n",
      " 44  orange_double_jump_active          314097 non-null  object \n",
      " 45  ball_pos_x                         316361 non-null  float64\n",
      " 46  ball_pos_y                         316361 non-null  float64\n",
      " 47  ball_pos_z                         316361 non-null  float64\n",
      " 48  ball_vel_x                         249198 non-null  float64\n",
      " 49  ball_vel_y                         249198 non-null  float64\n",
      " 50  ball_vel_z                         249198 non-null  float64\n",
      " 51  ball_ang_vel_x                     249198 non-null  float64\n",
      " 52  ball_ang_vel_y                     249198 non-null  float64\n",
      " 53  ball_ang_vel_z                     249198 non-null  float64\n",
      " 54  ball_hit_team_no                   257295 non-null  float64\n",
      " 55  ball_rot_x                         316361 non-null  float64\n",
      " 56  ball_rot_y                         316361 non-null  float64\n",
      " 57  ball_rot_z                         316361 non-null  float64\n",
      " 58  game_time                          316363 non-null  float64\n",
      " 59  game_delta                         316363 non-null  float64\n",
      " 60  game_seconds_remaining             315697 non-null  float64\n",
      " 61  game_replicated_seconds_remaining  84772 non-null   float64\n",
      " 62  game_is_overtime                   270083 non-null  object \n",
      " 63  game_ball_has_been_hit             310834 non-null  object \n",
      " 64  game_goal_number                   250747 non-null  float64\n",
      " 65  blue_boost_collect                 1755 non-null    float64\n",
      " 66  orange_boost_collect               1712 non-null    float64\n",
      " 67  game_next_goal                     316363 non-null  float64\n",
      "dtypes: float64(52), int64(2), object(14)\n",
      "memory usage: 166.5+ MB\n"
     ]
    }
   ],
   "source": [
    "df_holdout.info()"
   ]
  },
  {
   "cell_type": "code",
   "execution_count": 7,
   "id": "ec6f0d35",
   "metadata": {},
   "outputs": [],
   "source": [
    "df_holdout[\"blue_handbrake\"] = df_holdout[\"blue_handbrake\"].astype(\"bool\")\n",
    "df_holdout[\"orange_handbrake\"] = df_holdout[\"orange_handbrake\"].astype(\"bool\")\n",
    "\n",
    "df_holdout[\"blue_ball_cam\"] = df_holdout[\"blue_ball_cam\"].astype(\"bool\")\n",
    "df_holdout[\"orange_ball_cam\"] = df_holdout[\"orange_ball_cam\"].astype(\"bool\")\n",
    "\n",
    "df_holdout[\"blue_boost_active\"] = df_holdout[\"blue_boost_active\"].astype(\"bool\")\n",
    "df_holdout[\"orange_boost_active\"] = df_holdout[\"orange_boost_active\"].astype(\"bool\")"
   ]
  },
  {
   "cell_type": "code",
   "execution_count": 8,
   "id": "baee6970",
   "metadata": {},
   "outputs": [],
   "source": [
    "df_holdout.loc[df_holdout[\"game_is_overtime\"] == \"True\", \"game_is_overtime\"] = True\n",
    "df_holdout.loc[df_holdout[\"game_is_overtime\"].isnull(), \"game_is_overtime\"] = False\n",
    "df_holdout.loc[df_holdout[\"game_is_overtime\"] == \"no_OT\", \"game_is_overtime\"] = False\n",
    "df_holdout[\"game_is_overtime\"] = df_holdout[\"game_is_overtime\"].astype(\"bool\")\n",
    "\n",
    "df_holdout[\"game_ball_has_been_hit\"] = df_holdout[\"game_ball_has_been_hit\"].astype(\"bool\")"
   ]
  },
  {
   "cell_type": "code",
   "execution_count": 9,
   "id": "57cf1e13",
   "metadata": {},
   "outputs": [],
   "source": [
    "df_holdout.loc[df_holdout[\"blue_dodge_active\"]== \"False\", \"blue_dodge_active\"] = 0\n",
    "df_holdout.loc[df_holdout[\"orange_dodge_active\"] == \"False\", \"orange_dodge_active\"] = 0\n",
    "\n",
    "df_holdout[\"blue_dodge_active\"] = df_holdout[\"blue_dodge_active\"].astype(\"float64\")\n",
    "df_holdout[\"orange_dodge_active\"] = df_holdout[\"orange_dodge_active\"].astype(\"float64\")"
   ]
  },
  {
   "cell_type": "code",
   "execution_count": 10,
   "id": "c40cad10",
   "metadata": {},
   "outputs": [],
   "source": [
    "df_holdout.loc[df_holdout[\"blue_jump_active\"]== \"False\", \"blue_jump_active\"] = 0\n",
    "df_holdout.loc[df_holdout[\"orange_jump_active\"] == \"False\", \"orange_jump_active\"] = 0\n",
    "\n",
    "df_holdout[\"blue_jump_active\"] = df_holdout[\"blue_jump_active\"].astype(\"float64\")\n",
    "df_holdout[\"orange_jump_active\"] = df_holdout[\"orange_jump_active\"].astype(\"float64\")"
   ]
  },
  {
   "cell_type": "code",
   "execution_count": 11,
   "id": "7c586dea",
   "metadata": {},
   "outputs": [],
   "source": [
    "df_holdout.loc[df_holdout[\"blue_double_jump_active\"]== \"False\", \"blue_double_jump_active\"] = 0\n",
    "df_holdout.loc[df_holdout[\"orange_double_jump_active\"] == \"False\", \"orange_double_jump_active\"] = 0\n",
    "\n",
    "df_holdout[\"blue_double_jump_active\"] = df_holdout[\"blue_double_jump_active\"].astype(\"float64\")\n",
    "df_holdout[\"orange_double_jump_active\"] = df_holdout[\"orange_double_jump_active\"].astype(\"float64\")"
   ]
  },
  {
   "cell_type": "code",
   "execution_count": 12,
   "id": "9ae94eee",
   "metadata": {},
   "outputs": [
    {
     "name": "stdout",
     "output_type": "stream",
     "text": [
      "<class 'pandas.core.frame.DataFrame'>\n",
      "Int64Index: 316363 entries, 0 to 336876\n",
      "Data columns (total 68 columns):\n",
      " #   Column                             Non-Null Count   Dtype  \n",
      "---  ------                             --------------   -----  \n",
      " 0   ID                                 316363 non-null  int64  \n",
      " 1   blue_ping                          316363 non-null  int64  \n",
      " 2   blue_pos_x                         314049 non-null  float64\n",
      " 3   blue_pos_y                         314049 non-null  float64\n",
      " 4   blue_pos_z                         314049 non-null  float64\n",
      " 5   blue_vel_x                         314049 non-null  float64\n",
      " 6   blue_vel_y                         314049 non-null  float64\n",
      " 7   blue_vel_z                         314049 non-null  float64\n",
      " 8   blue_ang_vel_x                     314049 non-null  float64\n",
      " 9   blue_ang_vel_y                     314049 non-null  float64\n",
      " 10  blue_ang_vel_z                     314049 non-null  float64\n",
      " 11  blue_throttle                      302826 non-null  float64\n",
      " 12  blue_steer                         287858 non-null  float64\n",
      " 13  blue_handbrake                     316363 non-null  bool   \n",
      " 14  blue_rot_x                         314049 non-null  float64\n",
      " 15  blue_rot_y                         314049 non-null  float64\n",
      " 16  blue_rot_z                         314049 non-null  float64\n",
      " 17  blue_ball_cam                      316363 non-null  bool   \n",
      " 18  blue_dodge_active                  314048 non-null  float64\n",
      " 19  blue_double_jump_active            314048 non-null  float64\n",
      " 20  blue_jump_active                   314048 non-null  float64\n",
      " 21  blue_boost                         306695 non-null  float64\n",
      " 22  blue_boost_active                  316363 non-null  bool   \n",
      " 23  orange_ping                        315971 non-null  float64\n",
      " 24  orange_pos_x                       314107 non-null  float64\n",
      " 25  orange_pos_y                       314107 non-null  float64\n",
      " 26  orange_pos_z                       314107 non-null  float64\n",
      " 27  orange_vel_x                       314107 non-null  float64\n",
      " 28  orange_vel_y                       314107 non-null  float64\n",
      " 29  orange_vel_z                       314107 non-null  float64\n",
      " 30  orange_ang_vel_x                   314107 non-null  float64\n",
      " 31  orange_ang_vel_y                   314107 non-null  float64\n",
      " 32  orange_ang_vel_z                   314107 non-null  float64\n",
      " 33  orange_throttle                    296855 non-null  float64\n",
      " 34  orange_steer                       281715 non-null  float64\n",
      " 35  orange_handbrake                   316363 non-null  bool   \n",
      " 36  orange_rot_x                       314107 non-null  float64\n",
      " 37  orange_rot_y                       314107 non-null  float64\n",
      " 38  orange_rot_z                       314107 non-null  float64\n",
      " 39  orange_ball_cam                    316363 non-null  bool   \n",
      " 40  orange_jump_active                 314096 non-null  float64\n",
      " 41  orange_dodge_active                314097 non-null  float64\n",
      " 42  orange_boost                       305933 non-null  float64\n",
      " 43  orange_boost_active                316363 non-null  bool   \n",
      " 44  orange_double_jump_active          314097 non-null  float64\n",
      " 45  ball_pos_x                         316361 non-null  float64\n",
      " 46  ball_pos_y                         316361 non-null  float64\n",
      " 47  ball_pos_z                         316361 non-null  float64\n",
      " 48  ball_vel_x                         249198 non-null  float64\n",
      " 49  ball_vel_y                         249198 non-null  float64\n",
      " 50  ball_vel_z                         249198 non-null  float64\n",
      " 51  ball_ang_vel_x                     249198 non-null  float64\n",
      " 52  ball_ang_vel_y                     249198 non-null  float64\n",
      " 53  ball_ang_vel_z                     249198 non-null  float64\n",
      " 54  ball_hit_team_no                   257295 non-null  float64\n",
      " 55  ball_rot_x                         316361 non-null  float64\n",
      " 56  ball_rot_y                         316361 non-null  float64\n",
      " 57  ball_rot_z                         316361 non-null  float64\n",
      " 58  game_time                          316363 non-null  float64\n",
      " 59  game_delta                         316363 non-null  float64\n",
      " 60  game_seconds_remaining             315697 non-null  float64\n",
      " 61  game_replicated_seconds_remaining  84772 non-null   float64\n",
      " 62  game_is_overtime                   316363 non-null  bool   \n",
      " 63  game_ball_has_been_hit             316363 non-null  bool   \n",
      " 64  game_goal_number                   250747 non-null  float64\n",
      " 65  blue_boost_collect                 1755 non-null    float64\n",
      " 66  orange_boost_collect               1712 non-null    float64\n",
      " 67  game_next_goal                     316363 non-null  float64\n",
      "dtypes: bool(8), float64(58), int64(2)\n",
      "memory usage: 149.6 MB\n"
     ]
    }
   ],
   "source": [
    "df_holdout.info()"
   ]
  },
  {
   "cell_type": "code",
   "execution_count": 13,
   "id": "70084a26",
   "metadata": {},
   "outputs": [],
   "source": [
    "df_holdout.to_pickle(\"holdout_data_final.pkl\")"
   ]
  }
 ],
 "metadata": {
  "kernelspec": {
   "display_name": "Python 3 (ipykernel)",
   "language": "python",
   "name": "python3"
  },
  "language_info": {
   "codemirror_mode": {
    "name": "ipython",
    "version": 3
   },
   "file_extension": ".py",
   "mimetype": "text/x-python",
   "name": "python",
   "nbconvert_exporter": "python",
   "pygments_lexer": "ipython3",
   "version": "3.8.12"
  },
  "varInspector": {
   "cols": {
    "lenName": 16,
    "lenType": 16,
    "lenVar": 40
   },
   "kernels_config": {
    "python": {
     "delete_cmd_postfix": "",
     "delete_cmd_prefix": "del ",
     "library": "var_list.py",
     "varRefreshCmd": "print(var_dic_list())"
    },
    "r": {
     "delete_cmd_postfix": ") ",
     "delete_cmd_prefix": "rm(",
     "library": "var_list.r",
     "varRefreshCmd": "cat(var_dic_list()) "
    }
   },
   "types_to_exclude": [
    "module",
    "function",
    "builtin_function_or_method",
    "instance",
    "_Feature"
   ],
   "window_display": false
  }
 },
 "nbformat": 4,
 "nbformat_minor": 5
}
