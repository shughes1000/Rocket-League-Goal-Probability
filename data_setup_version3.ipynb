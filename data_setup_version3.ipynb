{
 "cells": [
  {
   "cell_type": "markdown",
   "id": "4a2cb2c4",
   "metadata": {},
   "source": [
    "# Code Setup"
   ]
  },
  {
   "cell_type": "markdown",
   "id": "222c30a1",
   "metadata": {},
   "source": [
    "This is the first file I created. It converts the Rocket League replay files to pandas dataframes. "
   ]
  },
  {
   "cell_type": "code",
   "execution_count": 1,
   "id": "b34c20cf",
   "metadata": {},
   "outputs": [],
   "source": [
    "import carball\n",
    "from carball.json_parser.game import Game\n",
    "from carball.analysis.analysis_manager import AnalysisManager"
   ]
  },
  {
   "cell_type": "markdown",
   "id": "a1479329",
   "metadata": {},
   "source": [
    "The following function renames the columns by team color instead of a multiindex with the player names"
   ]
  },
  {
   "cell_type": "code",
   "execution_count": 2,
   "id": "61094bea",
   "metadata": {},
   "outputs": [],
   "source": [
    "def col_names(df):\n",
    "    blue_name = df.columns[1][0]\n",
    "    orange_name = df.columns[-1][0]\n",
    "    \n",
    "    # if blue y position is above 0, we have blue and orange backwards\n",
    "    if df.loc[df.index == 1, (blue_name, \"pos_y\")][1] > 0:\n",
    "        blue_name, orange_name = orange_name, blue_name\n",
    "    \n",
    "    a = []\n",
    "    for i in df.columns:\n",
    "        if i[0] == blue_name:\n",
    "            a.append(\"blue_\" + i[1])\n",
    "        elif i[0] == orange_name:\n",
    "            a.append(\"orange_\" + i[1])\n",
    "        else:\n",
    "            a.append(\"_\".join(i))\n",
    "\n",
    "    df.columns = a\n",
    "    return df"
   ]
  },
  {
   "cell_type": "markdown",
   "id": "8fdee0da",
   "metadata": {},
   "source": [
    "This function converts the replay file into a dataframe. "
   ]
  },
  {
   "cell_type": "code",
   "execution_count": 3,
   "id": "60116d48",
   "metadata": {},
   "outputs": [],
   "source": [
    "def prepare(file):\n",
    "    _json = carball.decompile_replay(file)\n",
    "    game = Game()\n",
    "    game.initialize(loaded_json=_json)\n",
    "    \n",
    "    analysis_manager = AnalysisManager(game)\n",
    "    analysis_manager.create_analysis()\n",
    "    \n",
    "    dataframe = analysis_manager.get_data_frame()\n",
    "    dataframe = col_names(dataframe)\n",
    "    \n",
    "    if dataframe.shape[1] != 66:\n",
    "        dataframe.insert(61, 'game_is_overtime', 'no_OT')\n",
    "    \n",
    "    dataframe.insert(0, \"ID\", dataframe.index)\n",
    "    \n",
    "    # the parsing sometimes marks 0 seconds as null so we need to fix that\n",
    "    dataframe.loc[dataframe[\"game_seconds_remaining\"].isnull(), \"game_seconds_remaining\"] = 0\n",
    "    \n",
    "    return dataframe"
   ]
  },
  {
   "cell_type": "markdown",
   "id": "b7fcc3b0",
   "metadata": {},
   "source": [
    "This function finds the next goal scoring team for any given row, and the difference in time between the two goals"
   ]
  },
  {
   "cell_type": "code",
   "execution_count": 4,
   "id": "c5e7249d",
   "metadata": {},
   "outputs": [],
   "source": [
    "def next_goal_regulation(row, df):\n",
    "    try:\n",
    "        # find frame before next goal\n",
    "        ng = df.loc[(df[\"game_goal_number\"].isnull()) & (df[\"ID\"] > row), \"ID\"].iloc[0] - 1\n",
    "        \n",
    "        # depending on the ball location, we can tell who scored the next goal\n",
    "        if df.loc[ng, \"ball_pos_y\"] > 0:\n",
    "            return (0, df.loc[row, \"game_seconds_remaining\"] - df.loc[ng, \"game_seconds_remaining\"])\n",
    "        else:\n",
    "            return (1, df.loc[row, \"game_seconds_remaining\"] - df.loc[ng, \"game_seconds_remaining\"])\n",
    "    except:\n",
    "        return (None, None)\n",
    "\n",
    "\n",
    "def next_goal_ot(df):\n",
    "    # check where the ball is to end overtime\n",
    "    if df.iloc[-1, df.columns.get_loc(\"ball_pos_y\")] > 0:\n",
    "        # if ball is on orange half, team 0 (blue) scored in ot\n",
    "        return 0\n",
    "    else:\n",
    "        # else team 1 (orange) scored\n",
    "        return 1\n",
    "\n",
    "\n",
    "def next_goal(df):\n",
    "    if df.loc[1, \"game_is_overtime\"] == \"no_OT\":\n",
    "        # if game doesn't go to overtime, we just need to run the regulation function\n",
    "        temp = df[\"ID\"].apply(lambda x: next_goal_regulation(x, df))\n",
    "        df[\"game_next_goal\"] = [x[0] for x in temp]\n",
    "        df[\"time_to_next_goal\"] = [x[1] for x in temp]\n",
    "    else:\n",
    "        # if game goes to overtime, split df into ot and regulation\n",
    "        df_ot = df.loc[df[\"game_is_overtime\"].isnull() == False, ]\n",
    "        df = df.loc[df[\"game_is_overtime\"].isnull(), ]\n",
    "        \n",
    "        # run ot function on the ot dataframe\n",
    "        df_ot.loc[:, \"game_next_goal\"] = next_goal_ot(df_ot)\n",
    "        \n",
    "        # get times difference of the OT goal\n",
    "        df_ot[\"time_to_next_goal\"] = df_ot.iloc[-1, df.columns.get_loc(\"game_seconds_remaining\")] - df_ot[\"game_seconds_remaining\"]\n",
    "        \n",
    "        # run regulation function on the regulation dataframe\n",
    "        temp = df[\"ID\"].apply(lambda x: next_goal_regulation(x, df))\n",
    "        df[\"game_next_goal\"] = [x[0] for x in temp]\n",
    "        df[\"time_to_next_goal\"] = [x[1] for x in temp]\n",
    "        \n",
    "        # bind the dataframe back together\n",
    "        df = df.append(df_ot)\n",
    "    \n",
    "    # remove all rows after goals\n",
    "    df = df.loc[df[\"game_goal_number\"].isnull() == False, ]\n",
    "    \n",
    "    return df"
   ]
  },
  {
   "cell_type": "markdown",
   "id": "a2fe607b",
   "metadata": {},
   "source": [
    "From this point forward, I basically just looped through my directory for all of the replays. I did it in groups of 20 so I could work on it periodically. It took about 6 minutes for every 20 replays. "
   ]
  },
  {
   "cell_type": "code",
   "execution_count": 5,
   "id": "a5e57f4e",
   "metadata": {},
   "outputs": [],
   "source": [
    "import os"
   ]
  },
  {
   "cell_type": "code",
   "execution_count": 6,
   "id": "29b97f83",
   "metadata": {},
   "outputs": [],
   "source": [
    "def data_setup(string, directory):\n",
    "    i = 0\n",
    "    for file in os.listdir(directory):\n",
    "        print(os.fsdecode(file))\n",
    "        df = prepare(string + os.fsdecode(file))\n",
    "        df = next_goal(df)\n",
    "        if i == 0:\n",
    "            df_total = df\n",
    "            i += 1\n",
    "        else:\n",
    "            df_total = df_total.append(df)\n",
    "    return df_total"
   ]
  },
  {
   "cell_type": "markdown",
   "id": "02f68c15",
   "metadata": {},
   "source": [
    "This is just practice to make sure my code works"
   ]
  },
  {
   "cell_type": "code",
   "execution_count": 7,
   "id": "5d4b89bb",
   "metadata": {},
   "outputs": [
    {
     "name": "stdout",
     "output_type": "stream",
     "text": [
      "5c402249-2714-47a3-bd98-48d7e631e95d.replay\n"
     ]
    },
    {
     "name": "stderr",
     "output_type": "stream",
     "text": [
      "Dropping these columns[('game', 'is_overtime')]\n",
      "Goal is not shot: frame 362 by JJ.\n",
      "Goal is not shot: frame 6324 by JJ.\n",
      "The player never hit the ball during the \"carry\"\n"
     ]
    },
    {
     "name": "stdout",
     "output_type": "stream",
     "text": [
      "74854701-b08b-416f-b849-1152eeb5abea.replay\n"
     ]
    },
    {
     "name": "stderr",
     "output_type": "stream",
     "text": [
      "Dropping these columns[('game', 'is_overtime')]\n",
      "Goal is not shot: frame 3892 by WAJEH\n",
      "Goal is not shot: frame 6492 by Iryzer\n"
     ]
    },
    {
     "name": "stdout",
     "output_type": "stream",
     "text": [
      "924303e9-4a99-4ef8-9c15-13484b7bf72f.replay\n"
     ]
    },
    {
     "name": "stderr",
     "output_type": "stream",
     "text": [
      "Goal is not shot: frame 5292 by Dider\n",
      "Goal is not shot: frame 9079 by fivra\n",
      "The player never hit the ball during the \"carry\"\n",
      "The player never hit the ball during the \"carry\"\n",
      "C:\\Users\\mhugh\\anaconda3\\envs\\carball\\lib\\site-packages\\pandas\\core\\indexing.py:845: SettingWithCopyWarning: \n",
      "A value is trying to be set on a copy of a slice from a DataFrame.\n",
      "Try using .loc[row_indexer,col_indexer] = value instead\n",
      "\n",
      "See the caveats in the documentation: https://pandas.pydata.org/pandas-docs/stable/user_guide/indexing.html#returning-a-view-versus-a-copy\n",
      "  self.obj[key] = _infer_fill_value(value)\n",
      "C:\\Users\\mhugh\\anaconda3\\envs\\carball\\lib\\site-packages\\pandas\\core\\indexing.py:966: SettingWithCopyWarning: \n",
      "A value is trying to be set on a copy of a slice from a DataFrame.\n",
      "Try using .loc[row_indexer,col_indexer] = value instead\n",
      "\n",
      "See the caveats in the documentation: https://pandas.pydata.org/pandas-docs/stable/user_guide/indexing.html#returning-a-view-versus-a-copy\n",
      "  self.obj[item] = s\n",
      "C:\\Users\\mhugh\\AppData\\Local\\Temp/ipykernel_5972/324666517.py:40: SettingWithCopyWarning: \n",
      "A value is trying to be set on a copy of a slice from a DataFrame.\n",
      "Try using .loc[row_indexer,col_indexer] = value instead\n",
      "\n",
      "See the caveats in the documentation: https://pandas.pydata.org/pandas-docs/stable/user_guide/indexing.html#returning-a-view-versus-a-copy\n",
      "  df_ot[\"time_to_next_goal\"] = df_ot.iloc[-1, df.columns.get_loc(\"game_seconds_remaining\")] - df_ot[\"game_seconds_remaining\"]\n",
      "C:\\Users\\mhugh\\AppData\\Local\\Temp/ipykernel_5972/324666517.py:44: SettingWithCopyWarning: \n",
      "A value is trying to be set on a copy of a slice from a DataFrame.\n",
      "Try using .loc[row_indexer,col_indexer] = value instead\n",
      "\n",
      "See the caveats in the documentation: https://pandas.pydata.org/pandas-docs/stable/user_guide/indexing.html#returning-a-view-versus-a-copy\n",
      "  df[\"game_next_goal\"] = [x[0] for x in temp]\n",
      "C:\\Users\\mhugh\\AppData\\Local\\Temp/ipykernel_5972/324666517.py:45: SettingWithCopyWarning: \n",
      "A value is trying to be set on a copy of a slice from a DataFrame.\n",
      "Try using .loc[row_indexer,col_indexer] = value instead\n",
      "\n",
      "See the caveats in the documentation: https://pandas.pydata.org/pandas-docs/stable/user_guide/indexing.html#returning-a-view-versus-a-copy\n",
      "  df[\"time_to_next_goal\"] = [x[1] for x in temp]\n"
     ]
    },
    {
     "name": "stdout",
     "output_type": "stream",
     "text": [
      "b4b9e582-214f-4372-8d24-95e2a2f3e8ac.replay\n"
     ]
    },
    {
     "name": "stderr",
     "output_type": "stream",
     "text": [
      "Dropping these columns[('game', 'is_overtime')]\n",
      "Goal is not shot: frame 5278 by shad\n",
      "The player never hit the ball during the \"carry\"\n",
      "The player never hit the ball during the \"carry\"\n"
     ]
    },
    {
     "data": {
      "text/plain": [
       "(38820, 69)"
      ]
     },
     "execution_count": 7,
     "metadata": {},
     "output_type": "execute_result"
    }
   ],
   "source": [
    "string = \"./Replays/practice/\"\n",
    "directory = os.fsencode(string)\n",
    "df_total = data_setup(string, directory)\n",
    "df_total.shape"
   ]
  },
  {
   "cell_type": "markdown",
   "id": "f56a235d",
   "metadata": {},
   "source": [
    "Here are the replays I used for my experiment"
   ]
  },
  {
   "cell_type": "code",
   "execution_count": 8,
   "id": "724489a1",
   "metadata": {},
   "outputs": [],
   "source": [
    "import time"
   ]
  },
  {
   "cell_type": "code",
   "execution_count": 9,
   "id": "f71237d1",
   "metadata": {},
   "outputs": [
    {
     "name": "stdout",
     "output_type": "stream",
     "text": [
      "000dcd74-b0db-4527-868a-d5b6adb299d2.replay\n"
     ]
    },
    {
     "name": "stderr",
     "output_type": "stream",
     "text": [
      "Dropping these columns[('game', 'is_overtime')]\n",
      "Could not find hit for goal: frame_number: 250\n",
      "player_id {\n",
      "  id: \"76561198336321389\"\n",
      "}\n",
      "\n",
      "Goal is not shot: frame 1100 by itsok.\n",
      "Goal is not shot: frame 7814 by MainDavid101\n",
      "The player never hit the ball during the \"carry\"\n"
     ]
    },
    {
     "name": "stdout",
     "output_type": "stream",
     "text": [
      "022b136a-fbbd-4f44-885e-6aa41db9b72b.replay\n"
     ]
    },
    {
     "name": "stderr",
     "output_type": "stream",
     "text": [
      "Dropping these columns[('game', 'is_overtime')]\n",
      "Goal is not shot: frame 1556 by Duckz\n",
      "Goal is not shot: frame 5924 by Duckz\n",
      "Goal is not shot: frame 9278 by Duckz\n"
     ]
    },
    {
     "name": "stdout",
     "output_type": "stream",
     "text": [
      "1de63155-a40d-4f1d-bcac-1457e007735b.replay\n"
     ]
    },
    {
     "name": "stderr",
     "output_type": "stream",
     "text": [
      "Dropping these columns[('game', 'is_overtime')]\n",
      "Goal is not shot: frame 4676 by Hyderr\n",
      "Goal is not shot: frame 8367 by Davoof\n",
      "The player never hit the ball during the \"carry\"\n",
      "The player never hit the ball during the \"carry\"\n",
      "The player never hit the ball during the \"carry\"\n",
      "The player never hit the ball during the \"carry\"\n"
     ]
    },
    {
     "name": "stdout",
     "output_type": "stream",
     "text": [
      "20012543-352d-4a2b-bc2c-65d73a81e9ec.replay\n"
     ]
    },
    {
     "name": "stderr",
     "output_type": "stream",
     "text": [
      "Dropping these columns[('game', 'is_overtime')]\n",
      "Could not find hit for goal: frame_number: 11816\n",
      "player_id {\n",
      "  id: \"76561198893930063\"\n",
      "}\n",
      "\n",
      "Goal is not shot: frame 8947 by Flitz\n",
      "The player never hit the ball during the \"carry\"\n"
     ]
    },
    {
     "name": "stdout",
     "output_type": "stream",
     "text": [
      "3c4c25dd-cdc7-4668-9327-74aa31c58ad7.replay\n"
     ]
    },
    {
     "name": "stderr",
     "output_type": "stream",
     "text": [
      "Dropping these columns[('game', 'is_overtime')]\n"
     ]
    },
    {
     "name": "stdout",
     "output_type": "stream",
     "text": [
      "4a0402a4-849b-47ca-81d2-ab34d785706e.replay\n"
     ]
    },
    {
     "name": "stderr",
     "output_type": "stream",
     "text": [
      "Dropping these columns[('game', 'is_overtime')]\n",
      "Goal is not shot: frame 5065 by cam.\n",
      "Goal is not shot: frame 8072 by cam.\n",
      "The player never hit the ball during the \"carry\"\n",
      "The player never hit the ball during the \"carry\"\n",
      "The player never hit the ball during the \"carry\"\n"
     ]
    },
    {
     "name": "stdout",
     "output_type": "stream",
     "text": [
      "4a72543b-e521-45b0-bd98-8c399386fb1e.replay\n"
     ]
    },
    {
     "name": "stderr",
     "output_type": "stream",
     "text": [
      "Dropping these columns[('game', 'is_overtime')]\n",
      "Goal is not shot: frame 1239 by Ivan.\n"
     ]
    },
    {
     "name": "stdout",
     "output_type": "stream",
     "text": [
      "67c83ce8-9032-43ee-b0df-549b08b3ab82.replay\n"
     ]
    },
    {
     "name": "stderr",
     "output_type": "stream",
     "text": [
      "Dropping these columns[('game', 'is_overtime')]\n",
      "Goal is not shot: frame 1242 by Ivan.\n"
     ]
    },
    {
     "name": "stdout",
     "output_type": "stream",
     "text": [
      "6d804842-38cb-4e9f-be0b-14b06b2d5d1b.replay\n"
     ]
    },
    {
     "name": "stderr",
     "output_type": "stream",
     "text": [
      "Dropping these columns[('game', 'is_overtime')]\n"
     ]
    },
    {
     "name": "stdout",
     "output_type": "stream",
     "text": [
      "7fc4c484-6470-4b68-8f06-198857ce5741.replay\n"
     ]
    },
    {
     "name": "stderr",
     "output_type": "stream",
     "text": [
      "Dropping these columns[('game', 'is_overtime')]\n",
      "Could not find hit for goal: frame_number: 5931\n",
      "player_id {\n",
      "  id: \"76561199002196436\"\n",
      "}\n",
      "\n"
     ]
    },
    {
     "name": "stdout",
     "output_type": "stream",
     "text": [
      "82686558-5c36-404b-98c6-d068737c9b15.replay\n"
     ]
    },
    {
     "name": "stderr",
     "output_type": "stream",
     "text": [
      "C:\\Users\\mhugh\\anaconda3\\envs\\carball\\lib\\site-packages\\pandas\\core\\indexing.py:845: SettingWithCopyWarning: \n",
      "A value is trying to be set on a copy of a slice from a DataFrame.\n",
      "Try using .loc[row_indexer,col_indexer] = value instead\n",
      "\n",
      "See the caveats in the documentation: https://pandas.pydata.org/pandas-docs/stable/user_guide/indexing.html#returning-a-view-versus-a-copy\n",
      "  self.obj[key] = _infer_fill_value(value)\n",
      "C:\\Users\\mhugh\\anaconda3\\envs\\carball\\lib\\site-packages\\pandas\\core\\indexing.py:966: SettingWithCopyWarning: \n",
      "A value is trying to be set on a copy of a slice from a DataFrame.\n",
      "Try using .loc[row_indexer,col_indexer] = value instead\n",
      "\n",
      "See the caveats in the documentation: https://pandas.pydata.org/pandas-docs/stable/user_guide/indexing.html#returning-a-view-versus-a-copy\n",
      "  self.obj[item] = s\n",
      "C:\\Users\\mhugh\\AppData\\Local\\Temp/ipykernel_5972/324666517.py:40: SettingWithCopyWarning: \n",
      "A value is trying to be set on a copy of a slice from a DataFrame.\n",
      "Try using .loc[row_indexer,col_indexer] = value instead\n",
      "\n",
      "See the caveats in the documentation: https://pandas.pydata.org/pandas-docs/stable/user_guide/indexing.html#returning-a-view-versus-a-copy\n",
      "  df_ot[\"time_to_next_goal\"] = df_ot.iloc[-1, df.columns.get_loc(\"game_seconds_remaining\")] - df_ot[\"game_seconds_remaining\"]\n",
      "C:\\Users\\mhugh\\AppData\\Local\\Temp/ipykernel_5972/324666517.py:44: SettingWithCopyWarning: \n",
      "A value is trying to be set on a copy of a slice from a DataFrame.\n",
      "Try using .loc[row_indexer,col_indexer] = value instead\n",
      "\n",
      "See the caveats in the documentation: https://pandas.pydata.org/pandas-docs/stable/user_guide/indexing.html#returning-a-view-versus-a-copy\n",
      "  df[\"game_next_goal\"] = [x[0] for x in temp]\n",
      "C:\\Users\\mhugh\\AppData\\Local\\Temp/ipykernel_5972/324666517.py:45: SettingWithCopyWarning: \n",
      "A value is trying to be set on a copy of a slice from a DataFrame.\n",
      "Try using .loc[row_indexer,col_indexer] = value instead\n",
      "\n",
      "See the caveats in the documentation: https://pandas.pydata.org/pandas-docs/stable/user_guide/indexing.html#returning-a-view-versus-a-copy\n",
      "  df[\"time_to_next_goal\"] = [x[1] for x in temp]\n"
     ]
    },
    {
     "name": "stdout",
     "output_type": "stream",
     "text": [
      "882f9251-929c-4d59-bf07-d04accca7051.replay\n"
     ]
    },
    {
     "name": "stderr",
     "output_type": "stream",
     "text": [
      "Dropping these columns[('game', 'is_overtime')]\n",
      "Goal is not shot: frame 6201 by Rado\n",
      "Goal is not shot: frame 10127 by Zeikell.FB\n",
      "The player never hit the ball during the \"carry\"\n",
      "The player never hit the ball during the \"carry\"\n",
      "The player never hit the ball during the \"carry\"\n",
      "The player never hit the ball during the \"carry\"\n"
     ]
    },
    {
     "name": "stdout",
     "output_type": "stream",
     "text": [
      "93b05ed6-b36a-499f-889f-9de282b662c8.replay\n"
     ]
    },
    {
     "name": "stderr",
     "output_type": "stream",
     "text": [
      "Dropping these columns[('game', 'is_overtime')]\n"
     ]
    },
    {
     "name": "stdout",
     "output_type": "stream",
     "text": [
      "943a222a-3324-48f2-8c7e-5558a630438b.replay\n"
     ]
    },
    {
     "name": "stderr",
     "output_type": "stream",
     "text": [
      "Dropping these columns[('game', 'is_overtime')]\n",
      "The player never hit the ball during the \"carry\"\n",
      "The player never hit the ball during the \"carry\"\n",
      "The player never hit the ball during the \"carry\"\n"
     ]
    },
    {
     "name": "stdout",
     "output_type": "stream",
     "text": [
      "b8e15308-324b-4546-a8e7-368efa602635.replay\n"
     ]
    },
    {
     "name": "stderr",
     "output_type": "stream",
     "text": [
      "Dropping these columns[('game', 'is_overtime')]\n",
      "Goal is not shot: frame 4208 by Abdulelah.\n",
      "Goal is not shot: frame 8922 by Abdulelah.\n"
     ]
    },
    {
     "name": "stdout",
     "output_type": "stream",
     "text": [
      "c6d95362-8a33-4f7b-8a24-cb68f48928ab.replay\n"
     ]
    },
    {
     "name": "stderr",
     "output_type": "stream",
     "text": [
      "Goal is not shot: frame 2475 by :)\n",
      "Goal is not shot: frame 4264 by :)\n"
     ]
    },
    {
     "name": "stdout",
     "output_type": "stream",
     "text": [
      "e5d9056c-8ac7-4f04-8f71-c388f310c254.replay\n"
     ]
    },
    {
     "name": "stderr",
     "output_type": "stream",
     "text": [
      "Found bot not in bot list\n",
      "Dropping these columns[('game', 'is_overtime')]\n",
      "The player never hit the ball during the \"carry\"\n"
     ]
    },
    {
     "name": "stdout",
     "output_type": "stream",
     "text": [
      "f6842c27-32ba-4f4f-a5ce-1cc144b42689.replay\n"
     ]
    },
    {
     "name": "stderr",
     "output_type": "stream",
     "text": [
      "Dropping these columns[('game', 'is_overtime')]\n",
      "The player never hit the ball during the \"carry\"\n",
      "The player never hit the ball during the \"carry\"\n"
     ]
    },
    {
     "name": "stdout",
     "output_type": "stream",
     "text": [
      "f7e74000-7711-4f8e-8136-3752cb491521.replay\n"
     ]
    },
    {
     "name": "stderr",
     "output_type": "stream",
     "text": [
      "Found bot not in bot list\n",
      "Dropping these columns[('game', 'is_overtime')]\n",
      "Goal is not shot: frame 1156 by Taha on Twitch\n",
      "The player never hit the ball during the \"carry\"\n"
     ]
    },
    {
     "name": "stdout",
     "output_type": "stream",
     "text": [
      "fbcb688d-7141-47fa-9623-9b0394a98e11.replay\n"
     ]
    },
    {
     "name": "stderr",
     "output_type": "stream",
     "text": [
      "Dropping these columns[('game', 'is_overtime')]\n",
      "Goal is not shot: frame 4267 by insta-nssbali\n",
      "Goal is not shot: frame 9481 by Hyderr\n",
      "The player never hit the ball during the \"carry\"\n"
     ]
    },
    {
     "name": "stdout",
     "output_type": "stream",
     "text": [
      "246.8154752254486\n"
     ]
    },
    {
     "data": {
      "text/plain": [
       "(177101, 69)"
      ]
     },
     "execution_count": 9,
     "metadata": {},
     "output_type": "execute_result"
    }
   ],
   "source": [
    "start_time = time.time()\n",
    "string = \"./Replays2/test/\"\n",
    "directory = os.fsencode(string)\n",
    "df_total = data_setup(string, directory)\n",
    "print(time.time() - start_time)\n",
    "df_total.shape"
   ]
  },
  {
   "cell_type": "code",
   "execution_count": 10,
   "id": "56024bd3",
   "metadata": {},
   "outputs": [],
   "source": [
    "df_total.to_pickle(\"testing_data_v3.pkl\")"
   ]
  },
  {
   "cell_type": "code",
   "execution_count": 11,
   "id": "0fd602f8",
   "metadata": {},
   "outputs": [
    {
     "name": "stdout",
     "output_type": "stream",
     "text": [
      "1be6251e-11cd-49a0-b4bc-5846f84cb6b9.replay\n"
     ]
    },
    {
     "name": "stderr",
     "output_type": "stream",
     "text": [
      "Dropping these columns[('game', 'is_overtime')]\n"
     ]
    },
    {
     "name": "stdout",
     "output_type": "stream",
     "text": [
      "24385949-14b1-49cc-a8b1-a55fae5932cd.replay\n"
     ]
    },
    {
     "name": "stderr",
     "output_type": "stream",
     "text": [
      "Dropping these columns[('game', 'is_overtime')]\n",
      "The player never hit the ball during the \"carry\"\n"
     ]
    },
    {
     "name": "stdout",
     "output_type": "stream",
     "text": [
      "2f04c11a-1ef5-4ba2-9470-ce0d0ff1130b.replay\n"
     ]
    },
    {
     "name": "stderr",
     "output_type": "stream",
     "text": [
      "Dropping these columns[('game', 'is_overtime')]\n",
      "Could not find hit for goal: frame_number: 3132\n",
      "player_id {\n",
      "  id: \"76561198153246446\"\n",
      "}\n",
      "\n",
      "The player never hit the ball during the \"carry\"\n"
     ]
    },
    {
     "name": "stdout",
     "output_type": "stream",
     "text": [
      "38ff3973-d5e1-4d32-bb99-ed6f37d3d529.replay\n"
     ]
    },
    {
     "name": "stderr",
     "output_type": "stream",
     "text": [
      "Found bot not in bot list\n",
      "Dropping these columns[('game', 'is_overtime')]\n",
      "Could not find hit for goal: frame_number: 330\n",
      "player_id {\n",
      "  id: \"b9907fbee6b\"\n",
      "}\n",
      "\n"
     ]
    },
    {
     "name": "stdout",
     "output_type": "stream",
     "text": [
      "4fdbfce5-e9e6-4b23-ad24-0693f8b45a48.replay\n"
     ]
    },
    {
     "name": "stderr",
     "output_type": "stream",
     "text": [
      "Dropping these columns[('game', 'is_overtime')]\n",
      "Could not find hit for goal: frame_number: 226\n",
      "player_id {\n",
      "  id: \"76561198398080762\"\n",
      "}\n",
      "\n",
      "Goal is not shot: frame 3048 by Wilfred\n",
      "The player never hit the ball during the \"carry\"\n",
      "The player never hit the ball during the \"carry\"\n"
     ]
    },
    {
     "name": "stdout",
     "output_type": "stream",
     "text": [
      "5bc4937f-7cf6-40cf-9894-a44f2b7bfc02.replay\n"
     ]
    },
    {
     "name": "stderr",
     "output_type": "stream",
     "text": [
      "Dropping these columns[('game', 'is_overtime')]\n"
     ]
    },
    {
     "name": "stdout",
     "output_type": "stream",
     "text": [
      "66a0b9a2-dbe3-4cc2-acf4-f3a69282a612.replay\n"
     ]
    },
    {
     "name": "stderr",
     "output_type": "stream",
     "text": [
      "Dropping these columns[('game', 'is_overtime')]\n",
      "Goal is not shot: frame 177 by Geo\n",
      "Goal is not shot: frame 10205 by suwufy\n"
     ]
    },
    {
     "name": "stdout",
     "output_type": "stream",
     "text": [
      "6fcfbfd0-380a-4a19-9d57-ab1b8bf0805a.replay\n"
     ]
    },
    {
     "name": "stderr",
     "output_type": "stream",
     "text": [
      "Found bot not in bot list\n",
      "Dropping these columns[('game', 'is_overtime')]\n",
      "Goal is not shot: frame 9618 by Jagerf\n",
      "The player never hit the ball during the \"carry\"\n"
     ]
    },
    {
     "name": "stdout",
     "output_type": "stream",
     "text": [
      "881068ee-fbd9-4724-b4f3-ade62eebfa09.replay\n"
     ]
    },
    {
     "name": "stderr",
     "output_type": "stream",
     "text": [
      "Dropping these columns[('game', 'is_overtime')]\n",
      "Goal is not shot: frame 3000 by Zeikell.FB\n"
     ]
    },
    {
     "name": "stdout",
     "output_type": "stream",
     "text": [
      "9b72fd8d-b7df-4229-90c4-f1d4c443b32e.replay\n"
     ]
    },
    {
     "name": "stderr",
     "output_type": "stream",
     "text": [
      "Dropping these columns[('game', 'is_overtime')]\n",
      "Goal is not shot: frame 562 by salidow\n",
      "Goal is not shot: frame 1182 by iRicky\n",
      "Goal is not shot: frame 2658 by salidow\n",
      "Goal is not shot: frame 8816 by iRicky\n",
      "The player never hit the ball during the \"carry\"\n"
     ]
    },
    {
     "name": "stdout",
     "output_type": "stream",
     "text": [
      "9f0980a9-77f7-4c8e-af2c-1a746f86f021.replay\n"
     ]
    },
    {
     "name": "stderr",
     "output_type": "stream",
     "text": [
      "Dropping these columns[('game', 'is_overtime')]\n"
     ]
    },
    {
     "name": "stdout",
     "output_type": "stream",
     "text": [
      "a04ecf93-8684-4b62-ba6b-7e2ba7e7be23.replay\n"
     ]
    },
    {
     "name": "stderr",
     "output_type": "stream",
     "text": [
      "Dropping these columns[('game', 'is_overtime')]\n",
      "The player never hit the ball during the \"carry\"\n",
      "The player never hit the ball during the \"carry\"\n",
      "The player never hit the ball during the \"carry\"\n"
     ]
    },
    {
     "name": "stdout",
     "output_type": "stream",
     "text": [
      "ab276f21-0109-4497-97fb-defbb3469db0.replay\n"
     ]
    },
    {
     "name": "stderr",
     "output_type": "stream",
     "text": [
      "Dropping these columns[('game', 'is_overtime')]\n",
      "Goal is not shot: frame 224 by ★Toxiic★\n",
      "C:\\Users\\mhugh\\anaconda3\\envs\\carball\\lib\\site-packages\\numpy\\lib\\format.py:431: UserWarning: Stored array in format 3.0. It can only be read by NumPy >= 1.17\n",
      "  header = _wrap_header_guess_version(header)\n"
     ]
    },
    {
     "name": "stdout",
     "output_type": "stream",
     "text": [
      "b0b64f7e-3777-4dc4-9afe-f8cb4ad34cc0.replay\n"
     ]
    },
    {
     "name": "stderr",
     "output_type": "stream",
     "text": [
      "Dropping these columns[('game', 'is_overtime')]\n"
     ]
    },
    {
     "name": "stdout",
     "output_type": "stream",
     "text": [
      "c1e915c5-0f0a-42e5-aabf-e6917908230a.replay\n"
     ]
    },
    {
     "name": "stderr",
     "output_type": "stream",
     "text": [
      "Found bot not in bot list\n",
      "Dropping these columns[('game', 'is_overtime')]\n"
     ]
    },
    {
     "name": "stdout",
     "output_type": "stream",
     "text": [
      "db565863-359b-40ce-8e16-d39778a13aa3.replay\n"
     ]
    },
    {
     "name": "stderr",
     "output_type": "stream",
     "text": [
      "Could not find hit for goal: frame_number: 8960\n",
      "player_id {\n",
      "  id: \"76561198257645332\"\n",
      "}\n",
      "\n",
      "Goal is not shot: frame 4664 by nakeiz\n",
      "Goal is not shot: frame 6687 by nakeiz\n",
      "The player never hit the ball during the \"carry\"\n",
      "The player never hit the ball during the \"carry\"\n",
      "C:\\Users\\mhugh\\anaconda3\\envs\\carball\\lib\\site-packages\\pandas\\core\\indexing.py:845: SettingWithCopyWarning: \n",
      "A value is trying to be set on a copy of a slice from a DataFrame.\n",
      "Try using .loc[row_indexer,col_indexer] = value instead\n",
      "\n",
      "See the caveats in the documentation: https://pandas.pydata.org/pandas-docs/stable/user_guide/indexing.html#returning-a-view-versus-a-copy\n",
      "  self.obj[key] = _infer_fill_value(value)\n",
      "C:\\Users\\mhugh\\anaconda3\\envs\\carball\\lib\\site-packages\\pandas\\core\\indexing.py:966: SettingWithCopyWarning: \n",
      "A value is trying to be set on a copy of a slice from a DataFrame.\n",
      "Try using .loc[row_indexer,col_indexer] = value instead\n",
      "\n",
      "See the caveats in the documentation: https://pandas.pydata.org/pandas-docs/stable/user_guide/indexing.html#returning-a-view-versus-a-copy\n",
      "  self.obj[item] = s\n",
      "C:\\Users\\mhugh\\AppData\\Local\\Temp/ipykernel_5972/324666517.py:40: SettingWithCopyWarning: \n",
      "A value is trying to be set on a copy of a slice from a DataFrame.\n",
      "Try using .loc[row_indexer,col_indexer] = value instead\n",
      "\n",
      "See the caveats in the documentation: https://pandas.pydata.org/pandas-docs/stable/user_guide/indexing.html#returning-a-view-versus-a-copy\n",
      "  df_ot[\"time_to_next_goal\"] = df_ot.iloc[-1, df.columns.get_loc(\"game_seconds_remaining\")] - df_ot[\"game_seconds_remaining\"]\n",
      "C:\\Users\\mhugh\\AppData\\Local\\Temp/ipykernel_5972/324666517.py:44: SettingWithCopyWarning: \n",
      "A value is trying to be set on a copy of a slice from a DataFrame.\n",
      "Try using .loc[row_indexer,col_indexer] = value instead\n",
      "\n",
      "See the caveats in the documentation: https://pandas.pydata.org/pandas-docs/stable/user_guide/indexing.html#returning-a-view-versus-a-copy\n",
      "  df[\"game_next_goal\"] = [x[0] for x in temp]\n",
      "C:\\Users\\mhugh\\AppData\\Local\\Temp/ipykernel_5972/324666517.py:45: SettingWithCopyWarning: \n",
      "A value is trying to be set on a copy of a slice from a DataFrame.\n",
      "Try using .loc[row_indexer,col_indexer] = value instead\n",
      "\n",
      "See the caveats in the documentation: https://pandas.pydata.org/pandas-docs/stable/user_guide/indexing.html#returning-a-view-versus-a-copy\n",
      "  df[\"time_to_next_goal\"] = [x[1] for x in temp]\n"
     ]
    },
    {
     "name": "stdout",
     "output_type": "stream",
     "text": [
      "e91368ad-8892-4fc7-820b-25d142756e37.replay\n"
     ]
    },
    {
     "name": "stderr",
     "output_type": "stream",
     "text": [
      "Found bot not in bot list\n",
      "Dropping these columns[('game', 'is_overtime')]\n",
      "The player never hit the ball during the \"carry\"\n",
      "The player never hit the ball during the \"carry\"\n",
      "The player never hit the ball during the \"carry\"\n"
     ]
    },
    {
     "name": "stdout",
     "output_type": "stream",
     "text": [
      "f0793526-8361-459e-ae2e-a4c83dc350d2.replay\n"
     ]
    },
    {
     "name": "stderr",
     "output_type": "stream",
     "text": [
      "Dropping these columns[('game', 'is_overtime')]\n",
      "Goal is not shot: frame 7950 by Zeikell.FB\n",
      "Goal is not shot: frame 10844 by Zeikell.FB\n",
      "The player never hit the ball during the \"carry\"\n",
      "The player never hit the ball during the \"carry\"\n"
     ]
    },
    {
     "name": "stdout",
     "output_type": "stream",
     "text": [
      "f1e6c530-a828-4c68-a82f-c903449b9a2f.replay\n"
     ]
    },
    {
     "name": "stderr",
     "output_type": "stream",
     "text": [
      "Dropping these columns[('game', 'is_overtime')]\n",
      "Goal is not shot: frame 8366 by makus\n",
      "The player never hit the ball during the \"carry\"\n"
     ]
    },
    {
     "name": "stdout",
     "output_type": "stream",
     "text": [
      "f6f19dba-ab5e-4b30-85a8-3811ac1f65f8.replay\n"
     ]
    },
    {
     "name": "stderr",
     "output_type": "stream",
     "text": [
      "Dropping these columns[('game', 'is_overtime')]\n",
      "Goal is not shot: frame 1507 by slumplight ッ\n",
      "Goal is not shot: frame 2680 by slumplight ッ\n",
      "Goal is not shot: frame 6716 by slumplight ッ\n",
      "The player never hit the ball during the \"carry\"\n",
      "The player never hit the ball during the \"carry\"\n"
     ]
    },
    {
     "name": "stdout",
     "output_type": "stream",
     "text": [
      "232.44508981704712\n"
     ]
    },
    {
     "data": {
      "text/plain": [
       "(168558, 69)"
      ]
     },
     "execution_count": 11,
     "metadata": {},
     "output_type": "execute_result"
    }
   ],
   "source": [
    "start_time = time.time()\n",
    "string = \"./Replays2/train1/\"\n",
    "directory = os.fsencode(string)\n",
    "df_total = data_setup(string, directory)\n",
    "print(time.time() - start_time)\n",
    "df_total.shape"
   ]
  },
  {
   "cell_type": "code",
   "execution_count": 12,
   "id": "e3810210",
   "metadata": {},
   "outputs": [],
   "source": [
    "df_total.to_pickle(\"training_data1_v3.pkl\")"
   ]
  },
  {
   "cell_type": "code",
   "execution_count": 13,
   "id": "ef556b92",
   "metadata": {},
   "outputs": [
    {
     "name": "stdout",
     "output_type": "stream",
     "text": [
      "1d163c8b-2421-46d5-9997-84d1993ccb74.replay\n"
     ]
    },
    {
     "name": "stderr",
     "output_type": "stream",
     "text": [
      "Dropping these columns[('game', 'is_overtime')]\n",
      "Goal is not shot: frame 1291 by Geo\n",
      "The player never hit the ball during the \"carry\"\n"
     ]
    },
    {
     "name": "stdout",
     "output_type": "stream",
     "text": [
      "232d52cb-0b48-4316-a4eb-41f4f082c07a.replay\n"
     ]
    },
    {
     "name": "stderr",
     "output_type": "stream",
     "text": [
      "Dropping these columns[('game', 'is_overtime')]\n",
      "Goal is not shot: frame 7133 by ban.\n",
      "Goal is not shot: frame 10159 by .\n"
     ]
    },
    {
     "name": "stdout",
     "output_type": "stream",
     "text": [
      "3efb8106-b01d-44f4-894a-440ecb2d4215.replay\n"
     ]
    },
    {
     "name": "stderr",
     "output_type": "stream",
     "text": [
      "Found bot not in bot list\n",
      "Dropping these columns[('game', 'is_overtime')]\n",
      "Goal is not shot: frame 6005 by Trent\n",
      "The player never hit the ball during the \"carry\"\n"
     ]
    },
    {
     "name": "stdout",
     "output_type": "stream",
     "text": [
      "414646bf-f379-4448-a449-7a2211941ebb.replay\n"
     ]
    },
    {
     "name": "stderr",
     "output_type": "stream",
     "text": [
      "Found bot not in bot list\n",
      "Found bot not in bot list\n",
      "Dropping these columns[('game', 'is_overtime')]\n",
      "Goal is not shot: frame 6529 by SaphiiX_\n"
     ]
    },
    {
     "name": "stdout",
     "output_type": "stream",
     "text": [
      "4209a8b6-8c3f-46eb-a223-015710f94738.replay\n"
     ]
    },
    {
     "name": "stderr",
     "output_type": "stream",
     "text": [
      "Dropping these columns[('game', 'is_overtime')]\n",
      "Goal is not shot: frame 1174 by Lalar\n",
      "Goal is not shot: frame 2674 by Broken Sultan\n",
      "Goal is not shot: frame 4192 by Lalar\n"
     ]
    },
    {
     "name": "stdout",
     "output_type": "stream",
     "text": [
      "430e2bef-60aa-4d2b-8d0b-709ab933a862.replay\n"
     ]
    },
    {
     "name": "stderr",
     "output_type": "stream",
     "text": [
      "Dropping these columns[('game', 'is_overtime')]\n",
      "Goal is not shot: frame 4831 by Traetz\n",
      "Goal is not shot: frame 6607 by Traetz\n",
      "The player never hit the ball during the \"carry\"\n"
     ]
    },
    {
     "name": "stdout",
     "output_type": "stream",
     "text": [
      "4bd47685-7e3e-4504-ae9b-7ba1ffb08f76.replay\n"
     ]
    },
    {
     "name": "stderr",
     "output_type": "stream",
     "text": [
      "Dropping these columns[('game', 'is_overtime')]\n",
      "Goal is not shot: frame 3329 by ApparentlyJack\n",
      "Goal is not shot: frame 7215 by ★Toxiic★\n",
      "C:\\Users\\mhugh\\anaconda3\\envs\\carball\\lib\\site-packages\\numpy\\lib\\format.py:431: UserWarning: Stored array in format 3.0. It can only be read by NumPy >= 1.17\n",
      "  header = _wrap_header_guess_version(header)\n"
     ]
    },
    {
     "name": "stdout",
     "output_type": "stream",
     "text": [
      "5584a25a-9d7e-4f2d-bb3e-5ca1f5c432b4.replay\n"
     ]
    },
    {
     "name": "stderr",
     "output_type": "stream",
     "text": [
      "Dropping these columns[('game', 'is_overtime')]\n",
      "Goal is not shot: frame 1770 by Sauce\n",
      "Goal is not shot: frame 5327 by Sauce\n"
     ]
    },
    {
     "name": "stdout",
     "output_type": "stream",
     "text": [
      "6b9437fd-55fd-4e48-8f69-bab4c1247a3b.replay\n"
     ]
    },
    {
     "name": "stderr",
     "output_type": "stream",
     "text": [
      "Dropping these columns[('game', 'is_overtime')]\n",
      "Goal is not shot: frame 415 by 1emil\n"
     ]
    },
    {
     "name": "stdout",
     "output_type": "stream",
     "text": [
      "8612dde8-ddaf-4037-95d9-43bd2499184e.replay\n"
     ]
    },
    {
     "name": "stderr",
     "output_type": "stream",
     "text": [
      "Dropping these columns[('game', 'is_overtime')]\n",
      "The player never hit the ball during the \"carry\"\n",
      "The player never hit the ball during the \"carry\"\n"
     ]
    },
    {
     "name": "stdout",
     "output_type": "stream",
     "text": [
      "9787ccc9-52f5-4891-841a-91ba86fdf24c.replay\n"
     ]
    },
    {
     "name": "stderr",
     "output_type": "stream",
     "text": [
      "Dropping these columns[('game', 'is_overtime')]\n",
      "Goal is not shot: frame 2255 by NEXW.\n",
      "Goal is not shot: frame 7890 by 1emil\n",
      "The player never hit the ball during the \"carry\"\n"
     ]
    },
    {
     "name": "stdout",
     "output_type": "stream",
     "text": [
      "99f9552d-aa7f-4dde-aecc-7774a337297c.replay\n"
     ]
    },
    {
     "name": "stderr",
     "output_type": "stream",
     "text": [
      "Dropping these columns[('game', 'is_overtime')]\n",
      "Goal is not shot: frame 6994 by Alyiuu\n",
      "Goal is not shot: frame 7936 by Ivan vibin\n",
      "The player never hit the ball during the \"carry\"\n"
     ]
    },
    {
     "name": "stdout",
     "output_type": "stream",
     "text": [
      "a54260e6-799f-4536-ac80-44ff9130ffcb.replay\n"
     ]
    },
    {
     "name": "stderr",
     "output_type": "stream",
     "text": [
      "Dropping these columns[('game', 'is_overtime')]\n",
      "Goal is not shot: frame 11093 by Spider\n",
      "The player never hit the ball during the \"carry\"\n",
      "The player never hit the ball during the \"carry\"\n",
      "The player never hit the ball during the \"carry\"\n",
      "Replay name not found\n"
     ]
    },
    {
     "name": "stdout",
     "output_type": "stream",
     "text": [
      "A936BCF8441AB32CE09003AA8B63A8F5.replay\n"
     ]
    },
    {
     "name": "stderr",
     "output_type": "stream",
     "text": [
      "Dropping these columns[('game', 'is_overtime')]\n",
      "Goal is not shot: frame 3041 by Pabl0\n",
      "The player never hit the ball during the \"carry\"\n"
     ]
    },
    {
     "name": "stdout",
     "output_type": "stream",
     "text": [
      "e89001f5-c257-403e-8890-0bda5962208c.replay\n"
     ]
    },
    {
     "name": "stderr",
     "output_type": "stream",
     "text": [
      "Found bot not in bot list\n",
      "Dropping these columns[('game', 'is_overtime')]\n",
      "The player never hit the ball during the \"carry\"\n"
     ]
    },
    {
     "name": "stdout",
     "output_type": "stream",
     "text": [
      "ec297b2e-2a77-41b3-800b-5e0ed08809a5.replay\n"
     ]
    },
    {
     "name": "stderr",
     "output_type": "stream",
     "text": [
      "Dropping these columns[('game', 'is_overtime')]\n",
      "The player never hit the ball during the \"carry\"\n"
     ]
    },
    {
     "name": "stdout",
     "output_type": "stream",
     "text": [
      "efcdd51b-53d8-47d1-89e4-8bdef9fc1d24.replay\n"
     ]
    },
    {
     "name": "stderr",
     "output_type": "stream",
     "text": [
      "Dropping these columns[('game', 'is_overtime')]\n",
      "Goal is not shot: frame 3769 by tide. ツ\n",
      "Goal is not shot: frame 8216 by Dimes\n",
      "Goal is not shot: frame 9998 by Dimes\n",
      "The player never hit the ball during the \"carry\"\n",
      "The player never hit the ball during the \"carry\"\n",
      "The player never hit the ball during the \"carry\"\n"
     ]
    },
    {
     "name": "stdout",
     "output_type": "stream",
     "text": [
      "f4c8b1af-cda7-4957-8b20-5a39d082c2f2.replay\n"
     ]
    },
    {
     "name": "stderr",
     "output_type": "stream",
     "text": [
      "Dropping these columns[('game', 'is_overtime')]\n",
      "Goal is not shot: frame 5846 by Risky :(\n",
      "Goal is not shot: frame 9265 by Risky :(\n"
     ]
    },
    {
     "name": "stdout",
     "output_type": "stream",
     "text": [
      "f90476ce-3c66-482a-aa77-8e3158085628.replay\n"
     ]
    },
    {
     "name": "stderr",
     "output_type": "stream",
     "text": [
      "Dropping these columns[('game', 'is_overtime')]\n",
      "Goal is not shot: frame 6986 by Tryzin pushing P\n",
      "Goal is not shot: frame 10338 by Tryzin pushing P\n",
      "The player never hit the ball during the \"carry\"\n"
     ]
    },
    {
     "name": "stdout",
     "output_type": "stream",
     "text": [
      "fa8dcda0-86b0-449e-9e36-0b6fe9ad7152.replay\n"
     ]
    },
    {
     "name": "stderr",
     "output_type": "stream",
     "text": [
      "Dropping these columns[('game', 'is_overtime')]\n",
      "Goal is not shot: frame 2607 by Dimes\n",
      "Goal is not shot: frame 6221 by Dimes\n",
      "The player never hit the ball during the \"carry\"\n"
     ]
    },
    {
     "name": "stdout",
     "output_type": "stream",
     "text": [
      "231.07231783866882\n"
     ]
    },
    {
     "data": {
      "text/plain": [
       "(168337, 69)"
      ]
     },
     "execution_count": 13,
     "metadata": {},
     "output_type": "execute_result"
    }
   ],
   "source": [
    "start_time = time.time()\n",
    "string = \"./Replays2/train2/\"\n",
    "directory = os.fsencode(string)\n",
    "df_total = data_setup(string, directory)\n",
    "print(time.time() - start_time)\n",
    "df_total.shape"
   ]
  },
  {
   "cell_type": "code",
   "execution_count": 14,
   "id": "56d95785",
   "metadata": {},
   "outputs": [],
   "source": [
    "df_total.to_pickle(\"training_data2_v3.pkl\")"
   ]
  },
  {
   "cell_type": "code",
   "execution_count": 15,
   "id": "3fcfcacf",
   "metadata": {},
   "outputs": [
    {
     "name": "stdout",
     "output_type": "stream",
     "text": [
      "00e23f58-d6cb-46e1-b905-da75be060e9c.replay\n"
     ]
    },
    {
     "name": "stderr",
     "output_type": "stream",
     "text": [
      "Goal is not shot: frame 2575 by :)\n",
      "Goal is not shot: frame 4437 by :)\n",
      "C:\\Users\\mhugh\\anaconda3\\envs\\carball\\lib\\site-packages\\pandas\\core\\indexing.py:845: SettingWithCopyWarning: \n",
      "A value is trying to be set on a copy of a slice from a DataFrame.\n",
      "Try using .loc[row_indexer,col_indexer] = value instead\n",
      "\n",
      "See the caveats in the documentation: https://pandas.pydata.org/pandas-docs/stable/user_guide/indexing.html#returning-a-view-versus-a-copy\n",
      "  self.obj[key] = _infer_fill_value(value)\n",
      "C:\\Users\\mhugh\\anaconda3\\envs\\carball\\lib\\site-packages\\pandas\\core\\indexing.py:966: SettingWithCopyWarning: \n",
      "A value is trying to be set on a copy of a slice from a DataFrame.\n",
      "Try using .loc[row_indexer,col_indexer] = value instead\n",
      "\n",
      "See the caveats in the documentation: https://pandas.pydata.org/pandas-docs/stable/user_guide/indexing.html#returning-a-view-versus-a-copy\n",
      "  self.obj[item] = s\n",
      "C:\\Users\\mhugh\\AppData\\Local\\Temp/ipykernel_5972/324666517.py:40: SettingWithCopyWarning: \n",
      "A value is trying to be set on a copy of a slice from a DataFrame.\n",
      "Try using .loc[row_indexer,col_indexer] = value instead\n",
      "\n",
      "See the caveats in the documentation: https://pandas.pydata.org/pandas-docs/stable/user_guide/indexing.html#returning-a-view-versus-a-copy\n",
      "  df_ot[\"time_to_next_goal\"] = df_ot.iloc[-1, df.columns.get_loc(\"game_seconds_remaining\")] - df_ot[\"game_seconds_remaining\"]\n",
      "C:\\Users\\mhugh\\AppData\\Local\\Temp/ipykernel_5972/324666517.py:44: SettingWithCopyWarning: \n",
      "A value is trying to be set on a copy of a slice from a DataFrame.\n",
      "Try using .loc[row_indexer,col_indexer] = value instead\n",
      "\n",
      "See the caveats in the documentation: https://pandas.pydata.org/pandas-docs/stable/user_guide/indexing.html#returning-a-view-versus-a-copy\n",
      "  df[\"game_next_goal\"] = [x[0] for x in temp]\n",
      "C:\\Users\\mhugh\\AppData\\Local\\Temp/ipykernel_5972/324666517.py:45: SettingWithCopyWarning: \n",
      "A value is trying to be set on a copy of a slice from a DataFrame.\n",
      "Try using .loc[row_indexer,col_indexer] = value instead\n",
      "\n",
      "See the caveats in the documentation: https://pandas.pydata.org/pandas-docs/stable/user_guide/indexing.html#returning-a-view-versus-a-copy\n",
      "  df[\"time_to_next_goal\"] = [x[1] for x in temp]\n"
     ]
    },
    {
     "name": "stdout",
     "output_type": "stream",
     "text": [
      "1e94df5c-5a30-4069-aa5c-c65b17e1b2e5.replay\n"
     ]
    },
    {
     "name": "stderr",
     "output_type": "stream",
     "text": [
      "Dropping these columns[('game', 'is_overtime')]\n",
      "Goal is not shot: frame 1178 by ★Toxiic★\n",
      "Goal is not shot: frame 4193 by trace\n",
      "The player never hit the ball during the \"carry\"\n",
      "The player never hit the ball during the \"carry\"\n",
      "C:\\Users\\mhugh\\anaconda3\\envs\\carball\\lib\\site-packages\\numpy\\lib\\format.py:431: UserWarning: Stored array in format 3.0. It can only be read by NumPy >= 1.17\n",
      "  header = _wrap_header_guess_version(header)\n"
     ]
    },
    {
     "name": "stdout",
     "output_type": "stream",
     "text": [
      "34470e3a-fad0-4d0b-b218-19d473de1fbe.replay\n"
     ]
    },
    {
     "name": "stderr",
     "output_type": "stream",
     "text": [
      "Dropping these columns[('game', 'is_overtime')]\n",
      "Goal is not shot: frame 4086 by |WAJEH|\n",
      "Goal is not shot: frame 7717 by |WAJEH|\n",
      "The player never hit the ball during the \"carry\"\n"
     ]
    },
    {
     "name": "stdout",
     "output_type": "stream",
     "text": [
      "3f9cde40-acb9-4592-961a-2d1ded2b10b0.replay\n"
     ]
    },
    {
     "name": "stderr",
     "output_type": "stream",
     "text": [
      "Dropping these columns[('game', 'is_overtime')]\n",
      "The player never hit the ball during the \"carry\"\n",
      "The player never hit the ball during the \"carry\"\n",
      "The player never hit the ball during the \"carry\"\n"
     ]
    },
    {
     "name": "stdout",
     "output_type": "stream",
     "text": [
      "41ccf176-ba0f-43b3-8c65-577c6f148def.replay\n"
     ]
    },
    {
     "name": "stderr",
     "output_type": "stream",
     "text": [
      "Dropping these columns[('game', 'is_overtime')]\n",
      "Goal is not shot: frame 5519 by Syracks\n",
      "The player never hit the ball during the \"carry\"\n"
     ]
    },
    {
     "name": "stdout",
     "output_type": "stream",
     "text": [
      "5864172d-7d98-4d36-b5c3-b7c32b7207da.replay\n"
     ]
    },
    {
     "name": "stderr",
     "output_type": "stream",
     "text": [
      "Dropping these columns[('game', 'is_overtime')]\n",
      "Goal is not shot: frame 7808 by Terfinex\n"
     ]
    },
    {
     "name": "stdout",
     "output_type": "stream",
     "text": [
      "60e31569-5dc7-494e-9e74-2fcac5302e5b.replay\n"
     ]
    },
    {
     "name": "stderr",
     "output_type": "stream",
     "text": [
      "Dropping these columns[('game', 'is_overtime')]\n",
      "Goal is not shot: frame 2450 by nexuhty\n",
      "Goal is not shot: frame 7891 by twitch.tv/exoexoduss\n",
      "The player never hit the ball during the \"carry\"\n"
     ]
    },
    {
     "name": "stdout",
     "output_type": "stream",
     "text": [
      "62a4e39f-c6f6-4c55-90d9-660d7ab6a947.replay\n"
     ]
    },
    {
     "name": "stderr",
     "output_type": "stream",
     "text": [
      "Dropping these columns[('game', 'is_overtime')]\n",
      "Goal is not shot: frame 6383 by Apo2k\n"
     ]
    },
    {
     "name": "stdout",
     "output_type": "stream",
     "text": [
      "645830d5-7d68-41d4-8e13-c83b9fbf15ac.replay\n"
     ]
    },
    {
     "name": "stderr",
     "output_type": "stream",
     "text": [
      "Dropping these columns[('game', 'is_overtime')]\n",
      "Goal is not shot: frame 3933 by Trawish_bln\n",
      "Goal is not shot: frame 5492 by Blinxy\n",
      "Goal is not shot: frame 9783 by Trawish_bln\n"
     ]
    },
    {
     "name": "stdout",
     "output_type": "stream",
     "text": [
      "6e9d5802-8332-4a22-80da-b48db9b4af40.replay\n"
     ]
    },
    {
     "name": "stderr",
     "output_type": "stream",
     "text": [
      "Found bot not in bot list\n",
      "Dropping these columns[('game', 'is_overtime')]\n",
      "Goal is not shot: frame 2415 by Tryzin\n",
      "The player never hit the ball during the \"carry\"\n",
      "The player never hit the ball during the \"carry\"\n"
     ]
    },
    {
     "name": "stdout",
     "output_type": "stream",
     "text": [
      "70f9796c-e5d6-47d0-9bc3-3a4c94c28975.replay\n"
     ]
    },
    {
     "name": "stderr",
     "output_type": "stream",
     "text": [
      "Dropping these columns[('game', 'is_overtime')]\n",
      "Goal is not shot: frame 1265 by defzzy ☼\n"
     ]
    },
    {
     "name": "stdout",
     "output_type": "stream",
     "text": [
      "748619b6-c18b-438e-8ab8-7b754a9ec304.replay\n"
     ]
    },
    {
     "name": "stderr",
     "output_type": "stream",
     "text": [
      "Dropping these columns[('game', 'is_overtime')]\n",
      "Goal is not shot: frame 3376 by Lewsual.\n",
      "Goal is not shot: frame 7597 by Lewsual.\n",
      "Goal is not shot: frame 10013 by Lewsual.\n",
      "The player never hit the ball during the \"carry\"\n"
     ]
    },
    {
     "name": "stdout",
     "output_type": "stream",
     "text": [
      "8daa83ef-37ea-4603-ab9d-fbd89ee2d4f6.replay\n",
      "955a9343-f347-4af3-913a-63bf86bf2113.replay\n"
     ]
    },
    {
     "name": "stderr",
     "output_type": "stream",
     "text": [
      "Goal is not shot: frame 3565 by EclatMaccers TTV\n",
      "Goal is not shot: frame 7710 by Ivan.\n",
      "The player never hit the ball during the \"carry\"\n",
      "The player never hit the ball during the \"carry\"\n"
     ]
    },
    {
     "name": "stdout",
     "output_type": "stream",
     "text": [
      "96e32e7f-f943-42ab-855f-4151d3f1c78c.replay\n"
     ]
    },
    {
     "name": "stderr",
     "output_type": "stream",
     "text": [
      "Dropping these columns[('game', 'is_overtime')]\n",
      "Goal is not shot: frame 873 by King Ranny\n",
      "The player never hit the ball during the \"carry\"\n"
     ]
    },
    {
     "name": "stdout",
     "output_type": "stream",
     "text": [
      "9a25768c-c9fa-43fe-a5e7-21912240bd6b.replay\n"
     ]
    },
    {
     "name": "stderr",
     "output_type": "stream",
     "text": [
      "Goal is not shot: frame 1889 by t.tv/Vensi7\n",
      "Goal is not shot: frame 5299 by t.tv/Vensi7\n",
      "Goal is not shot: frame 7409 by ★Toxiic★\n",
      "The player never hit the ball during the \"carry\"\n",
      "Found bot not in bot list\n"
     ]
    },
    {
     "name": "stdout",
     "output_type": "stream",
     "text": [
      "a1595861-c437-476f-ac82-ded36dde0291.replay\n"
     ]
    },
    {
     "name": "stderr",
     "output_type": "stream",
     "text": [
      "Dropping these columns[('game', 'is_overtime')]\n",
      "The player never hit the ball during the \"carry\"\n",
      "The player never hit the ball during the \"carry\"\n"
     ]
    },
    {
     "name": "stdout",
     "output_type": "stream",
     "text": [
      "a555b0f7-322f-41fe-96cb-18acad5d3347.replay\n"
     ]
    },
    {
     "name": "stderr",
     "output_type": "stream",
     "text": [
      "Found bot not in bot list\n",
      "Dropping these columns[('game', 'is_overtime')]\n",
      "Goal is not shot: frame 4491 by Bambi\n",
      "The player never hit the ball during the \"carry\"\n",
      "The player never hit the ball during the \"carry\"\n",
      "The player never hit the ball during the \"carry\"\n"
     ]
    },
    {
     "name": "stdout",
     "output_type": "stream",
     "text": [
      "ae89d896-a8e0-401b-941e-1e1c2aed6b6d.replay\n"
     ]
    },
    {
     "name": "stderr",
     "output_type": "stream",
     "text": [
      "Found bot not in bot list\n",
      "Dropping these columns[('game', 'is_overtime')]\n",
      "Goal is not shot: frame 3088 by grandhx\n"
     ]
    },
    {
     "name": "stdout",
     "output_type": "stream",
     "text": [
      "bd8ce728-eeb4-4831-9649-8ffac729c0a1.replay\n"
     ]
    },
    {
     "name": "stderr",
     "output_type": "stream",
     "text": [
      "Dropping these columns[('game', 'is_overtime')]\n"
     ]
    },
    {
     "name": "stdout",
     "output_type": "stream",
     "text": [
      "234.83639430999756\n"
     ]
    },
    {
     "data": {
      "text/plain": [
       "(173663, 69)"
      ]
     },
     "execution_count": 15,
     "metadata": {},
     "output_type": "execute_result"
    }
   ],
   "source": [
    "start_time = time.time()\n",
    "string = \"./Replays2/train3/\"\n",
    "directory = os.fsencode(string)\n",
    "df_total = data_setup(string, directory)\n",
    "print(time.time() - start_time)\n",
    "df_total.shape"
   ]
  },
  {
   "cell_type": "code",
   "execution_count": 16,
   "id": "fc1ce904",
   "metadata": {},
   "outputs": [],
   "source": [
    "df_total.to_pickle(\"training_data3_v3.pkl\")"
   ]
  },
  {
   "cell_type": "code",
   "execution_count": 17,
   "id": "74bbde22",
   "metadata": {},
   "outputs": [
    {
     "name": "stdout",
     "output_type": "stream",
     "text": [
      "02511bd4-8330-40e4-a500-d4db03623feb.replay\n"
     ]
    },
    {
     "name": "stderr",
     "output_type": "stream",
     "text": [
      "Found bot not in bot list\n",
      "Dropping these columns[('game', 'is_overtime')]\n",
      "Goal is not shot: frame 9092 by cam.\n",
      "The player never hit the ball during the \"carry\"\n",
      "The player never hit the ball during the \"carry\"\n",
      "C:\\Users\\mhugh\\anaconda3\\envs\\carball\\lib\\site-packages\\numpy\\lib\\format.py:431: UserWarning: Stored array in format 3.0. It can only be read by NumPy >= 1.17\n",
      "  header = _wrap_header_guess_version(header)\n"
     ]
    },
    {
     "name": "stdout",
     "output_type": "stream",
     "text": [
      "0c40e95c-b00b-4c95-b7e4-b24115b035f6.replay\n"
     ]
    },
    {
     "name": "stderr",
     "output_type": "stream",
     "text": [
      "Dropping these columns[('game', 'is_overtime')]\n",
      "Goal is not shot: frame 355 by sky.\n",
      "The player never hit the ball during the \"carry\"\n"
     ]
    },
    {
     "name": "stdout",
     "output_type": "stream",
     "text": [
      "15b4d253-0da0-4101-b678-f78ec61a4e3c.replay\n"
     ]
    },
    {
     "name": "stderr",
     "output_type": "stream",
     "text": [
      "Dropping these columns[('game', 'is_overtime')]\n",
      "The player never hit the ball during the \"carry\"\n"
     ]
    },
    {
     "name": "stdout",
     "output_type": "stream",
     "text": [
      "2bbacb25-d756-42d0-be29-1cef5eadb789.replay\n"
     ]
    },
    {
     "name": "stderr",
     "output_type": "stream",
     "text": [
      "Dropping these columns[('game', 'is_overtime')]\n",
      "Goal is not shot: frame 4851 by Frehsh\n",
      "The player never hit the ball during the \"carry\"\n"
     ]
    },
    {
     "name": "stdout",
     "output_type": "stream",
     "text": [
      "5747e1bf-0579-4750-a5c0-03779093afc2.replay\n"
     ]
    },
    {
     "name": "stderr",
     "output_type": "stream",
     "text": [
      "Dropping these columns[('game', 'is_overtime')]\n",
      "Could not find hit for goal: frame_number: 593\n",
      "player_id {\n",
      "  id: \"76561198975257362\"\n",
      "}\n",
      "\n",
      "Goal is not shot: frame 2044 by Gaiade\n",
      "Goal is not shot: frame 7251 by Spider\n",
      "The player never hit the ball during the \"carry\"\n"
     ]
    },
    {
     "name": "stdout",
     "output_type": "stream",
     "text": [
      "6c081e0b-9a56-46d8-9451-4c8151cf8b9c.replay\n"
     ]
    },
    {
     "name": "stderr",
     "output_type": "stream",
     "text": [
      "Dropping these columns[('game', 'is_overtime')]\n",
      "Goal is not shot: frame 7226 by 1emil\n"
     ]
    },
    {
     "name": "stdout",
     "output_type": "stream",
     "text": [
      "76f551be-7550-4fa6-9601-93aba5e8473a.replay\n"
     ]
    },
    {
     "name": "stderr",
     "output_type": "stream",
     "text": [
      "Found bot not in bot list\n",
      "Dropping these columns[('game', 'is_overtime')]\n",
      "Goal is not shot: frame 9301 by Ashllxyy\n",
      "The player never hit the ball during the \"carry\"\n",
      "The player never hit the ball during the \"carry\"\n",
      "The player never hit the ball during the \"carry\"\n",
      "The player never hit the ball during the \"carry\"\n"
     ]
    },
    {
     "name": "stdout",
     "output_type": "stream",
     "text": [
      "80d02511-b3f1-4529-9f1c-ee9a2dbb1afc.replay\n"
     ]
    },
    {
     "name": "stderr",
     "output_type": "stream",
     "text": [
      "C:\\Users\\mhugh\\anaconda3\\envs\\carball\\lib\\site-packages\\pandas\\core\\indexing.py:845: SettingWithCopyWarning: \n",
      "A value is trying to be set on a copy of a slice from a DataFrame.\n",
      "Try using .loc[row_indexer,col_indexer] = value instead\n",
      "\n",
      "See the caveats in the documentation: https://pandas.pydata.org/pandas-docs/stable/user_guide/indexing.html#returning-a-view-versus-a-copy\n",
      "  self.obj[key] = _infer_fill_value(value)\n",
      "C:\\Users\\mhugh\\anaconda3\\envs\\carball\\lib\\site-packages\\pandas\\core\\indexing.py:966: SettingWithCopyWarning: \n",
      "A value is trying to be set on a copy of a slice from a DataFrame.\n",
      "Try using .loc[row_indexer,col_indexer] = value instead\n",
      "\n",
      "See the caveats in the documentation: https://pandas.pydata.org/pandas-docs/stable/user_guide/indexing.html#returning-a-view-versus-a-copy\n",
      "  self.obj[item] = s\n",
      "C:\\Users\\mhugh\\AppData\\Local\\Temp/ipykernel_5972/324666517.py:40: SettingWithCopyWarning: \n",
      "A value is trying to be set on a copy of a slice from a DataFrame.\n",
      "Try using .loc[row_indexer,col_indexer] = value instead\n",
      "\n",
      "See the caveats in the documentation: https://pandas.pydata.org/pandas-docs/stable/user_guide/indexing.html#returning-a-view-versus-a-copy\n",
      "  df_ot[\"time_to_next_goal\"] = df_ot.iloc[-1, df.columns.get_loc(\"game_seconds_remaining\")] - df_ot[\"game_seconds_remaining\"]\n",
      "C:\\Users\\mhugh\\AppData\\Local\\Temp/ipykernel_5972/324666517.py:44: SettingWithCopyWarning: \n",
      "A value is trying to be set on a copy of a slice from a DataFrame.\n",
      "Try using .loc[row_indexer,col_indexer] = value instead\n",
      "\n",
      "See the caveats in the documentation: https://pandas.pydata.org/pandas-docs/stable/user_guide/indexing.html#returning-a-view-versus-a-copy\n",
      "  df[\"game_next_goal\"] = [x[0] for x in temp]\n",
      "C:\\Users\\mhugh\\AppData\\Local\\Temp/ipykernel_5972/324666517.py:45: SettingWithCopyWarning: \n",
      "A value is trying to be set on a copy of a slice from a DataFrame.\n",
      "Try using .loc[row_indexer,col_indexer] = value instead\n",
      "\n",
      "See the caveats in the documentation: https://pandas.pydata.org/pandas-docs/stable/user_guide/indexing.html#returning-a-view-versus-a-copy\n",
      "  df[\"time_to_next_goal\"] = [x[1] for x in temp]\n"
     ]
    },
    {
     "name": "stdout",
     "output_type": "stream",
     "text": [
      "81c763d4-07dd-4d05-8a0f-ca42488f79b9.replay\n"
     ]
    },
    {
     "name": "stderr",
     "output_type": "stream",
     "text": [
      "Dropping these columns[('game', 'is_overtime')]\n",
      "Goal is not shot: frame 5456 by .Wahvey\n"
     ]
    },
    {
     "name": "stdout",
     "output_type": "stream",
     "text": [
      "89078fed-5506-4732-b37e-edab70552025.replay\n"
     ]
    },
    {
     "name": "stderr",
     "output_type": "stream",
     "text": [
      "Found bot not in bot list\n",
      "Dropping these columns[('game', 'is_overtime')]\n",
      "Goal is not shot: frame 8585 by Justuszzz\n",
      "The player never hit the ball during the \"carry\"\n",
      "The player never hit the ball during the \"carry\"\n"
     ]
    },
    {
     "name": "stdout",
     "output_type": "stream",
     "text": [
      "89d0a346-3a17-4d82-98a7-a455753b1e19.replay\n"
     ]
    },
    {
     "name": "stderr",
     "output_type": "stream",
     "text": [
      "Dropping these columns[('game', 'is_overtime')]\n",
      "Goal is not shot: frame 1157 by t.tv/CamRL_\n",
      "Goal is not shot: frame 4093 by t.tv/CamRL_\n",
      "The player never hit the ball during the \"carry\"\n",
      "The player never hit the ball during the \"carry\"\n",
      "The player never hit the ball during the \"carry\"\n"
     ]
    },
    {
     "name": "stdout",
     "output_type": "stream",
     "text": [
      "91526cd7-fc8c-463b-bfbe-20efbc617ebe.replay\n"
     ]
    },
    {
     "name": "stderr",
     "output_type": "stream",
     "text": [
      "Dropping these columns[('game', 'is_overtime')]\n",
      "Goal is not shot: frame 947 by jacob\n"
     ]
    },
    {
     "name": "stdout",
     "output_type": "stream",
     "text": [
      "9a8e7015-d941-484e-9aad-0fce44bb98c4.replay\n"
     ]
    },
    {
     "name": "stderr",
     "output_type": "stream",
     "text": [
      "Dropping these columns[('game', 'is_overtime')]\n",
      "Goal is not shot: frame 9117 by Brisky\n",
      "The player never hit the ball during the \"carry\"\n",
      "The player never hit the ball during the \"carry\"\n"
     ]
    },
    {
     "name": "stdout",
     "output_type": "stream",
     "text": [
      "9e0bd589-eb5a-4417-a3ee-25bb23deb666.replay\n"
     ]
    },
    {
     "name": "stderr",
     "output_type": "stream",
     "text": [
      "Dropping these columns[('game', 'is_overtime')]\n",
      "The player never hit the ball during the \"carry\"\n"
     ]
    },
    {
     "name": "stdout",
     "output_type": "stream",
     "text": [
      "a0c1ba3c-bf79-4291-a225-ef2c38270ce5.replay\n"
     ]
    },
    {
     "name": "stderr",
     "output_type": "stream",
     "text": [
      "Goal is not shot: frame 764 by Spider\n",
      "Goal is not shot: frame 7747 by Spider\n",
      "Goal is not shot: frame 13446 by Laskiri\n",
      "The player never hit the ball during the \"carry\"\n",
      "The player never hit the ball during the \"carry\"\n",
      "The player never hit the ball during the \"carry\"\n",
      "The player never hit the ball during the \"carry\"\n"
     ]
    },
    {
     "name": "stdout",
     "output_type": "stream",
     "text": [
      "a6fe9436-24d0-4da7-bc2e-c1d06eb59f9c.replay\n"
     ]
    },
    {
     "name": "stderr",
     "output_type": "stream",
     "text": [
      "Dropping these columns[('game', 'is_overtime')]\n",
      "The player never hit the ball during the \"carry\"\n"
     ]
    },
    {
     "name": "stdout",
     "output_type": "stream",
     "text": [
      "a8934a1b-711d-47ed-840b-17b339ff6835.replay\n"
     ]
    },
    {
     "name": "stderr",
     "output_type": "stream",
     "text": [
      "Found bot not in bot list\n",
      "Dropping these columns[('game', 'is_overtime')]\n",
      "Goal is not shot: frame 5302 by 1emil\n",
      "The player never hit the ball during the \"carry\"\n",
      "The player never hit the ball during the \"carry\"\n"
     ]
    },
    {
     "name": "stdout",
     "output_type": "stream",
     "text": [
      "a9684ff0-ef70-48db-ba18-52dee351b370.replay\n"
     ]
    },
    {
     "name": "stderr",
     "output_type": "stream",
     "text": [
      "Dropping these columns[('game', 'is_overtime')]\n",
      "Goal is not shot: frame 4436 by Dansku\n",
      "Goal is not shot: frame 6769 by Cactic | TTV\n",
      "The player never hit the ball during the \"carry\"\n"
     ]
    },
    {
     "name": "stdout",
     "output_type": "stream",
     "text": [
      "ba609879-23bf-4845-98b8-03d88a41e309.replay\n"
     ]
    },
    {
     "name": "stderr",
     "output_type": "stream",
     "text": [
      "Dropping these columns[('game', 'is_overtime')]\n",
      "Goal is not shot: frame 3525 by .Wahvey\n",
      "The player never hit the ball during the \"carry\"\n"
     ]
    },
    {
     "name": "stdout",
     "output_type": "stream",
     "text": [
      "c7274875-1658-4b0d-86a7-949703a24982.replay\n"
     ]
    },
    {
     "name": "stderr",
     "output_type": "stream",
     "text": [
      "Dropping these columns[('game', 'is_overtime')]\n",
      "Goal is not shot: frame 2471 by Davoof\n",
      "Goal is not shot: frame 8878 by Davoof\n",
      "The player never hit the ball during the \"carry\"\n",
      "The player never hit the ball during the \"carry\"\n",
      "The player never hit the ball during the \"carry\"\n",
      "The player never hit the ball during the \"carry\"\n",
      "The player never hit the ball during the \"carry\"\n"
     ]
    },
    {
     "name": "stdout",
     "output_type": "stream",
     "text": [
      "237.55948901176453\n"
     ]
    },
    {
     "data": {
      "text/plain": [
       "(177947, 69)"
      ]
     },
     "execution_count": 17,
     "metadata": {},
     "output_type": "execute_result"
    }
   ],
   "source": [
    "start_time = time.time()\n",
    "string = \"./Replays2/accuracy/\"\n",
    "directory = os.fsencode(string)\n",
    "df_total = data_setup(string, directory)\n",
    "print(time.time() - start_time)\n",
    "df_total.shape"
   ]
  },
  {
   "cell_type": "code",
   "execution_count": 18,
   "id": "74405a17",
   "metadata": {},
   "outputs": [],
   "source": [
    "df_total.to_pickle(\"accuracy_data_v3.pkl\")"
   ]
  },
  {
   "cell_type": "code",
   "execution_count": 9,
   "id": "84f5e910",
   "metadata": {},
   "outputs": [
    {
     "name": "stdout",
     "output_type": "stream",
     "text": [
      "EEBBEFDB4F55F6E19D8DAA962AC39053.replay\n"
     ]
    },
    {
     "name": "stderr",
     "output_type": "stream",
     "text": [
      "Player Fusion Admin as player has no MatchScore.\n",
      "Score is not found for player\n",
      "Ignoring player: Fusion Admin as player has no team.\n",
      "Player JohnnyBoi_i as player has no MatchScore.\n",
      "Score is not found for player\n",
      "Ignoring player: JohnnyBoi_i as player has no team.\n",
      "Player Shogun as player has no MatchScore.\n",
      "Score is not found for player\n",
      "Ignoring player: Shogun as player has no team.\n",
      "Goal is not shot: frame 1204 by Firstkiller\n",
      "The player never hit the ball during the \"carry\"\n",
      "C:\\Users\\mhugh\\anaconda3\\envs\\carball\\lib\\site-packages\\pandas\\core\\indexing.py:845: SettingWithCopyWarning: \n",
      "A value is trying to be set on a copy of a slice from a DataFrame.\n",
      "Try using .loc[row_indexer,col_indexer] = value instead\n",
      "\n",
      "See the caveats in the documentation: https://pandas.pydata.org/pandas-docs/stable/user_guide/indexing.html#returning-a-view-versus-a-copy\n",
      "  self.obj[key] = _infer_fill_value(value)\n",
      "C:\\Users\\mhugh\\anaconda3\\envs\\carball\\lib\\site-packages\\pandas\\core\\indexing.py:966: SettingWithCopyWarning: \n",
      "A value is trying to be set on a copy of a slice from a DataFrame.\n",
      "Try using .loc[row_indexer,col_indexer] = value instead\n",
      "\n",
      "See the caveats in the documentation: https://pandas.pydata.org/pandas-docs/stable/user_guide/indexing.html#returning-a-view-versus-a-copy\n",
      "  self.obj[item] = s\n",
      "C:\\Users\\mhugh\\AppData\\Local\\Temp/ipykernel_18640/324666517.py:40: SettingWithCopyWarning: \n",
      "A value is trying to be set on a copy of a slice from a DataFrame.\n",
      "Try using .loc[row_indexer,col_indexer] = value instead\n",
      "\n",
      "See the caveats in the documentation: https://pandas.pydata.org/pandas-docs/stable/user_guide/indexing.html#returning-a-view-versus-a-copy\n",
      "  df_ot[\"time_to_next_goal\"] = df_ot.iloc[-1, df.columns.get_loc(\"game_seconds_remaining\")] - df_ot[\"game_seconds_remaining\"]\n"
     ]
    },
    {
     "name": "stdout",
     "output_type": "stream",
     "text": [
      "15.022202968597412\n"
     ]
    },
    {
     "name": "stderr",
     "output_type": "stream",
     "text": [
      "C:\\Users\\mhugh\\AppData\\Local\\Temp/ipykernel_18640/324666517.py:44: SettingWithCopyWarning: \n",
      "A value is trying to be set on a copy of a slice from a DataFrame.\n",
      "Try using .loc[row_indexer,col_indexer] = value instead\n",
      "\n",
      "See the caveats in the documentation: https://pandas.pydata.org/pandas-docs/stable/user_guide/indexing.html#returning-a-view-versus-a-copy\n",
      "  df[\"game_next_goal\"] = [x[0] for x in temp]\n",
      "C:\\Users\\mhugh\\AppData\\Local\\Temp/ipykernel_18640/324666517.py:45: SettingWithCopyWarning: \n",
      "A value is trying to be set on a copy of a slice from a DataFrame.\n",
      "Try using .loc[row_indexer,col_indexer] = value instead\n",
      "\n",
      "See the caveats in the documentation: https://pandas.pydata.org/pandas-docs/stable/user_guide/indexing.html#returning-a-view-versus-a-copy\n",
      "  df[\"time_to_next_goal\"] = [x[1] for x in temp]\n"
     ]
    },
    {
     "data": {
      "text/plain": [
       "(11522, 69)"
      ]
     },
     "execution_count": 9,
     "metadata": {},
     "output_type": "execute_result"
    }
   ],
   "source": [
    "start_time = time.time()\n",
    "string = \"./Replays2/final_analysis/\"\n",
    "directory = os.fsencode(string)\n",
    "df_total = data_setup(string, directory)\n",
    "print(time.time() - start_time)\n",
    "df_total.shape"
   ]
  },
  {
   "cell_type": "code",
   "execution_count": 10,
   "id": "a42389ba",
   "metadata": {},
   "outputs": [],
   "source": [
    "df_total.to_pickle(\"analysis_data_v3.pkl\")"
   ]
  },
  {
   "cell_type": "code",
   "execution_count": null,
   "id": "84bd3849",
   "metadata": {},
   "outputs": [],
   "source": []
  }
 ],
 "metadata": {
  "kernelspec": {
   "display_name": "Python 3 (ipykernel)",
   "language": "python",
   "name": "python3"
  },
  "language_info": {
   "codemirror_mode": {
    "name": "ipython",
    "version": 3
   },
   "file_extension": ".py",
   "mimetype": "text/x-python",
   "name": "python",
   "nbconvert_exporter": "python",
   "pygments_lexer": "ipython3",
   "version": "3.8.12"
  },
  "varInspector": {
   "cols": {
    "lenName": 16,
    "lenType": 16,
    "lenVar": 40
   },
   "kernels_config": {
    "python": {
     "delete_cmd_postfix": "",
     "delete_cmd_prefix": "del ",
     "library": "var_list.py",
     "varRefreshCmd": "print(var_dic_list())"
    },
    "r": {
     "delete_cmd_postfix": ") ",
     "delete_cmd_prefix": "rm(",
     "library": "var_list.r",
     "varRefreshCmd": "cat(var_dic_list()) "
    }
   },
   "types_to_exclude": [
    "module",
    "function",
    "builtin_function_or_method",
    "instance",
    "_Feature"
   ],
   "window_display": false
  }
 },
 "nbformat": 4,
 "nbformat_minor": 5
}
